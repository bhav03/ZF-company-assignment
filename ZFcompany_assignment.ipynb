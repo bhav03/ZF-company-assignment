{
 "cells": [
  {
   "cell_type": "markdown",
   "id": "b92dba04",
   "metadata": {},
   "source": [
    "## DONE BY GUJARATHI BHAVANI (RA2011053010018)"
   ]
  },
  {
   "cell_type": "markdown",
   "id": "6e35b4fc",
   "metadata": {},
   "source": [
    "# EXPLORATORY DATA ANALYSIS AND DATA PRE-PROCESSING\n"
   ]
  },
  {
   "cell_type": "code",
   "execution_count": 1,
   "id": "026f54f7",
   "metadata": {
    "id": "026f54f7"
   },
   "outputs": [],
   "source": [
    "import pandas as pd\n",
    "import numpy as np\n",
    "import seaborn as sns\n",
    "import matplotlib.pyplot as plt\n"
   ]
  },
  {
   "cell_type": "code",
   "execution_count": 2,
   "id": "dd003b79",
   "metadata": {
    "colab": {
     "base_uri": "https://localhost:8080/",
     "height": 478
    },
    "id": "dd003b79",
    "outputId": "afee6788-6042-414a-ee14-aff0df7b8e9f"
   },
   "outputs": [
    {
     "data": {
      "text/html": [
       "<div>\n",
       "<style scoped>\n",
       "    .dataframe tbody tr th:only-of-type {\n",
       "        vertical-align: middle;\n",
       "    }\n",
       "\n",
       "    .dataframe tbody tr th {\n",
       "        vertical-align: top;\n",
       "    }\n",
       "\n",
       "    .dataframe thead th {\n",
       "        text-align: right;\n",
       "    }\n",
       "</style>\n",
       "<table border=\"1\" class=\"dataframe\">\n",
       "  <thead>\n",
       "    <tr style=\"text-align: right;\">\n",
       "      <th></th>\n",
       "      <th>MEMBERSHIP_NUMBER</th>\n",
       "      <th>MEMBERSHIP_TERM_YEARS</th>\n",
       "      <th>ANNUAL_FEES</th>\n",
       "      <th>MEMBER_MARITAL_STATUS</th>\n",
       "      <th>MEMBER_GENDER</th>\n",
       "      <th>MEMBER_ANNUAL_INCOME</th>\n",
       "      <th>MEMBER_OCCUPATION_CD</th>\n",
       "      <th>MEMBERSHIP_PACKAGE</th>\n",
       "      <th>MEMBER_AGE_AT_ISSUE</th>\n",
       "      <th>ADDITIONAL_MEMBERS</th>\n",
       "      <th>PAYMENT_MODE</th>\n",
       "      <th>AGENT_CODE</th>\n",
       "      <th>MEMBERSHIP_STATUS</th>\n",
       "      <th>START_DATE (YYYYMMDD)</th>\n",
       "      <th>END_DATE  (YYYYMMDD)</th>\n",
       "    </tr>\n",
       "  </thead>\n",
       "  <tbody>\n",
       "    <tr>\n",
       "      <th>0</th>\n",
       "      <td>A00001</td>\n",
       "      <td>29</td>\n",
       "      <td>113125.00</td>\n",
       "      <td>M</td>\n",
       "      <td>M</td>\n",
       "      <td>25200000.0</td>\n",
       "      <td>1.0</td>\n",
       "      <td>TYPE-B</td>\n",
       "      <td>45</td>\n",
       "      <td>2</td>\n",
       "      <td>ANNUAL</td>\n",
       "      <td>477</td>\n",
       "      <td>INFORCE</td>\n",
       "      <td>20060914</td>\n",
       "      <td>NaN</td>\n",
       "    </tr>\n",
       "    <tr>\n",
       "      <th>1</th>\n",
       "      <td>A00002</td>\n",
       "      <td>38</td>\n",
       "      <td>112220.00</td>\n",
       "      <td>M</td>\n",
       "      <td>M</td>\n",
       "      <td>10339200.0</td>\n",
       "      <td>1.0</td>\n",
       "      <td>TYPE-B</td>\n",
       "      <td>36</td>\n",
       "      <td>3</td>\n",
       "      <td>QUARTERLY</td>\n",
       "      <td>255</td>\n",
       "      <td>INFORCE</td>\n",
       "      <td>20061102</td>\n",
       "      <td>NaN</td>\n",
       "    </tr>\n",
       "    <tr>\n",
       "      <th>2</th>\n",
       "      <td>A00003</td>\n",
       "      <td>12</td>\n",
       "      <td>100000.00</td>\n",
       "      <td>M</td>\n",
       "      <td>M</td>\n",
       "      <td>14400000.0</td>\n",
       "      <td>1.0</td>\n",
       "      <td>TYPE-B</td>\n",
       "      <td>42</td>\n",
       "      <td>1</td>\n",
       "      <td>ANNUAL</td>\n",
       "      <td>7866</td>\n",
       "      <td>INFORCE</td>\n",
       "      <td>20070124</td>\n",
       "      <td>NaN</td>\n",
       "    </tr>\n",
       "    <tr>\n",
       "      <th>3</th>\n",
       "      <td>A00004</td>\n",
       "      <td>12</td>\n",
       "      <td>100000.00</td>\n",
       "      <td>M</td>\n",
       "      <td>M</td>\n",
       "      <td>9000000.0</td>\n",
       "      <td>1.0</td>\n",
       "      <td>TYPE-B</td>\n",
       "      <td>39</td>\n",
       "      <td>2</td>\n",
       "      <td>ANNUAL</td>\n",
       "      <td>200533</td>\n",
       "      <td>INFORCE</td>\n",
       "      <td>20070122</td>\n",
       "      <td>NaN</td>\n",
       "    </tr>\n",
       "    <tr>\n",
       "      <th>4</th>\n",
       "      <td>A00005</td>\n",
       "      <td>46</td>\n",
       "      <td>100000.00</td>\n",
       "      <td>M</td>\n",
       "      <td>M</td>\n",
       "      <td>4800000.0</td>\n",
       "      <td>1.0</td>\n",
       "      <td>TYPE-B</td>\n",
       "      <td>27</td>\n",
       "      <td>2</td>\n",
       "      <td>QUARTERLY</td>\n",
       "      <td>6988</td>\n",
       "      <td>INFORCE</td>\n",
       "      <td>20070131</td>\n",
       "      <td>NaN</td>\n",
       "    </tr>\n",
       "    <tr>\n",
       "      <th>...</th>\n",
       "      <td>...</td>\n",
       "      <td>...</td>\n",
       "      <td>...</td>\n",
       "      <td>...</td>\n",
       "      <td>...</td>\n",
       "      <td>...</td>\n",
       "      <td>...</td>\n",
       "      <td>...</td>\n",
       "      <td>...</td>\n",
       "      <td>...</td>\n",
       "      <td>...</td>\n",
       "      <td>...</td>\n",
       "      <td>...</td>\n",
       "      <td>...</td>\n",
       "      <td>...</td>\n",
       "    </tr>\n",
       "    <tr>\n",
       "      <th>10357</th>\n",
       "      <td>A10362</td>\n",
       "      <td>17</td>\n",
       "      <td>206180.15</td>\n",
       "      <td>NaN</td>\n",
       "      <td>M</td>\n",
       "      <td>NaN</td>\n",
       "      <td>6.0</td>\n",
       "      <td>TYPE-A</td>\n",
       "      <td>71</td>\n",
       "      <td>0</td>\n",
       "      <td>ANNUAL</td>\n",
       "      <td>1438477</td>\n",
       "      <td>INFORCE</td>\n",
       "      <td>20131129</td>\n",
       "      <td>NaN</td>\n",
       "    </tr>\n",
       "    <tr>\n",
       "      <th>10358</th>\n",
       "      <td>A10363</td>\n",
       "      <td>22</td>\n",
       "      <td>100000.42</td>\n",
       "      <td>NaN</td>\n",
       "      <td>F</td>\n",
       "      <td>399996.0</td>\n",
       "      <td>2.0</td>\n",
       "      <td>TYPE-A</td>\n",
       "      <td>63</td>\n",
       "      <td>0</td>\n",
       "      <td>ANNUAL</td>\n",
       "      <td>1288288</td>\n",
       "      <td>INFORCE</td>\n",
       "      <td>20131129</td>\n",
       "      <td>NaN</td>\n",
       "    </tr>\n",
       "    <tr>\n",
       "      <th>10359</th>\n",
       "      <td>A10364</td>\n",
       "      <td>17</td>\n",
       "      <td>270950.45</td>\n",
       "      <td>NaN</td>\n",
       "      <td>M</td>\n",
       "      <td>NaN</td>\n",
       "      <td>6.0</td>\n",
       "      <td>TYPE-A</td>\n",
       "      <td>62</td>\n",
       "      <td>3</td>\n",
       "      <td>ANNUAL</td>\n",
       "      <td>1244022</td>\n",
       "      <td>INFORCE</td>\n",
       "      <td>20131129</td>\n",
       "      <td>NaN</td>\n",
       "    </tr>\n",
       "    <tr>\n",
       "      <th>10360</th>\n",
       "      <td>A10365</td>\n",
       "      <td>57</td>\n",
       "      <td>210006.61</td>\n",
       "      <td>NaN</td>\n",
       "      <td>M</td>\n",
       "      <td>NaN</td>\n",
       "      <td>6.0</td>\n",
       "      <td>TYPE-A</td>\n",
       "      <td>72</td>\n",
       "      <td>2</td>\n",
       "      <td>ANNUAL</td>\n",
       "      <td>1436000</td>\n",
       "      <td>INFORCE</td>\n",
       "      <td>20131129</td>\n",
       "      <td>NaN</td>\n",
       "    </tr>\n",
       "    <tr>\n",
       "      <th>10361</th>\n",
       "      <td>A10366</td>\n",
       "      <td>17</td>\n",
       "      <td>100000.36</td>\n",
       "      <td>W</td>\n",
       "      <td>F</td>\n",
       "      <td>300000.0</td>\n",
       "      <td>1.0</td>\n",
       "      <td>TYPE-A</td>\n",
       "      <td>56</td>\n",
       "      <td>0</td>\n",
       "      <td>SEMI-ANNUAL</td>\n",
       "      <td>347999</td>\n",
       "      <td>INFORCE</td>\n",
       "      <td>20131129</td>\n",
       "      <td>NaN</td>\n",
       "    </tr>\n",
       "  </tbody>\n",
       "</table>\n",
       "<p>10362 rows × 15 columns</p>\n",
       "</div>"
      ],
      "text/plain": [
       "      MEMBERSHIP_NUMBER  MEMBERSHIP_TERM_YEARS  ANNUAL_FEES  \\\n",
       "0                A00001                     29    113125.00   \n",
       "1                A00002                     38    112220.00   \n",
       "2                A00003                     12    100000.00   \n",
       "3                A00004                     12    100000.00   \n",
       "4                A00005                     46    100000.00   \n",
       "...                 ...                    ...          ...   \n",
       "10357            A10362                     17    206180.15   \n",
       "10358            A10363                     22    100000.42   \n",
       "10359            A10364                     17    270950.45   \n",
       "10360            A10365                     57    210006.61   \n",
       "10361            A10366                     17    100000.36   \n",
       "\n",
       "      MEMBER_MARITAL_STATUS MEMBER_GENDER  MEMBER_ANNUAL_INCOME  \\\n",
       "0                         M             M            25200000.0   \n",
       "1                         M             M            10339200.0   \n",
       "2                         M             M            14400000.0   \n",
       "3                         M             M             9000000.0   \n",
       "4                         M             M             4800000.0   \n",
       "...                     ...           ...                   ...   \n",
       "10357                   NaN             M                   NaN   \n",
       "10358                   NaN             F              399996.0   \n",
       "10359                   NaN             M                   NaN   \n",
       "10360                   NaN             M                   NaN   \n",
       "10361                     W             F              300000.0   \n",
       "\n",
       "       MEMBER_OCCUPATION_CD MEMBERSHIP_PACKAGE  MEMBER_AGE_AT_ISSUE  \\\n",
       "0                       1.0             TYPE-B                   45   \n",
       "1                       1.0             TYPE-B                   36   \n",
       "2                       1.0             TYPE-B                   42   \n",
       "3                       1.0             TYPE-B                   39   \n",
       "4                       1.0             TYPE-B                   27   \n",
       "...                     ...                ...                  ...   \n",
       "10357                   6.0             TYPE-A                   71   \n",
       "10358                   2.0             TYPE-A                   63   \n",
       "10359                   6.0             TYPE-A                   62   \n",
       "10360                   6.0             TYPE-A                   72   \n",
       "10361                   1.0             TYPE-A                   56   \n",
       "\n",
       "       ADDITIONAL_MEMBERS PAYMENT_MODE AGENT_CODE MEMBERSHIP_STATUS  \\\n",
       "0                       2       ANNUAL        477           INFORCE   \n",
       "1                       3    QUARTERLY        255           INFORCE   \n",
       "2                       1       ANNUAL       7866           INFORCE   \n",
       "3                       2       ANNUAL     200533           INFORCE   \n",
       "4                       2    QUARTERLY       6988           INFORCE   \n",
       "...                   ...          ...        ...               ...   \n",
       "10357                   0       ANNUAL    1438477           INFORCE   \n",
       "10358                   0       ANNUAL    1288288           INFORCE   \n",
       "10359                   3       ANNUAL    1244022           INFORCE   \n",
       "10360                   2       ANNUAL    1436000           INFORCE   \n",
       "10361                   0  SEMI-ANNUAL     347999           INFORCE   \n",
       "\n",
       "       START_DATE (YYYYMMDD)  END_DATE  (YYYYMMDD)  \n",
       "0                   20060914                   NaN  \n",
       "1                   20061102                   NaN  \n",
       "2                   20070124                   NaN  \n",
       "3                   20070122                   NaN  \n",
       "4                   20070131                   NaN  \n",
       "...                      ...                   ...  \n",
       "10357               20131129                   NaN  \n",
       "10358               20131129                   NaN  \n",
       "10359               20131129                   NaN  \n",
       "10360               20131129                   NaN  \n",
       "10361               20131129                   NaN  \n",
       "\n",
       "[10362 rows x 15 columns]"
      ]
     },
     "execution_count": 2,
     "metadata": {},
     "output_type": "execute_result"
    }
   ],
   "source": [
    "df= pd.read_csv(r\"C:\\Users\\galij\\Downloads\\Assignment_membership_woes.csv\")\n",
    "df"
   ]
  },
  {
   "cell_type": "code",
   "execution_count": 3,
   "id": "55ccf14f",
   "metadata": {
    "colab": {
     "base_uri": "https://localhost:8080/",
     "height": 243
    },
    "id": "55ccf14f",
    "outputId": "46fb2a97-4ec2-4e7e-f82c-1b2d8fe182c0"
   },
   "outputs": [
    {
     "data": {
      "text/html": [
       "<div>\n",
       "<style scoped>\n",
       "    .dataframe tbody tr th:only-of-type {\n",
       "        vertical-align: middle;\n",
       "    }\n",
       "\n",
       "    .dataframe tbody tr th {\n",
       "        vertical-align: top;\n",
       "    }\n",
       "\n",
       "    .dataframe thead th {\n",
       "        text-align: right;\n",
       "    }\n",
       "</style>\n",
       "<table border=\"1\" class=\"dataframe\">\n",
       "  <thead>\n",
       "    <tr style=\"text-align: right;\">\n",
       "      <th></th>\n",
       "      <th>MEMBERSHIP_NUMBER</th>\n",
       "      <th>MEMBERSHIP_TERM_YEARS</th>\n",
       "      <th>ANNUAL_FEES</th>\n",
       "      <th>MEMBER_MARITAL_STATUS</th>\n",
       "      <th>MEMBER_GENDER</th>\n",
       "      <th>MEMBER_ANNUAL_INCOME</th>\n",
       "      <th>MEMBER_OCCUPATION_CD</th>\n",
       "      <th>MEMBERSHIP_PACKAGE</th>\n",
       "      <th>MEMBER_AGE_AT_ISSUE</th>\n",
       "      <th>ADDITIONAL_MEMBERS</th>\n",
       "      <th>PAYMENT_MODE</th>\n",
       "      <th>AGENT_CODE</th>\n",
       "      <th>MEMBERSHIP_STATUS</th>\n",
       "      <th>START_DATE (YYYYMMDD)</th>\n",
       "      <th>END_DATE  (YYYYMMDD)</th>\n",
       "    </tr>\n",
       "  </thead>\n",
       "  <tbody>\n",
       "    <tr>\n",
       "      <th>0</th>\n",
       "      <td>A00001</td>\n",
       "      <td>29</td>\n",
       "      <td>113125.0</td>\n",
       "      <td>M</td>\n",
       "      <td>M</td>\n",
       "      <td>25200000.0</td>\n",
       "      <td>1.0</td>\n",
       "      <td>TYPE-B</td>\n",
       "      <td>45</td>\n",
       "      <td>2</td>\n",
       "      <td>ANNUAL</td>\n",
       "      <td>477</td>\n",
       "      <td>INFORCE</td>\n",
       "      <td>20060914</td>\n",
       "      <td>NaN</td>\n",
       "    </tr>\n",
       "    <tr>\n",
       "      <th>1</th>\n",
       "      <td>A00002</td>\n",
       "      <td>38</td>\n",
       "      <td>112220.0</td>\n",
       "      <td>M</td>\n",
       "      <td>M</td>\n",
       "      <td>10339200.0</td>\n",
       "      <td>1.0</td>\n",
       "      <td>TYPE-B</td>\n",
       "      <td>36</td>\n",
       "      <td>3</td>\n",
       "      <td>QUARTERLY</td>\n",
       "      <td>255</td>\n",
       "      <td>INFORCE</td>\n",
       "      <td>20061102</td>\n",
       "      <td>NaN</td>\n",
       "    </tr>\n",
       "    <tr>\n",
       "      <th>2</th>\n",
       "      <td>A00003</td>\n",
       "      <td>12</td>\n",
       "      <td>100000.0</td>\n",
       "      <td>M</td>\n",
       "      <td>M</td>\n",
       "      <td>14400000.0</td>\n",
       "      <td>1.0</td>\n",
       "      <td>TYPE-B</td>\n",
       "      <td>42</td>\n",
       "      <td>1</td>\n",
       "      <td>ANNUAL</td>\n",
       "      <td>7866</td>\n",
       "      <td>INFORCE</td>\n",
       "      <td>20070124</td>\n",
       "      <td>NaN</td>\n",
       "    </tr>\n",
       "    <tr>\n",
       "      <th>3</th>\n",
       "      <td>A00004</td>\n",
       "      <td>12</td>\n",
       "      <td>100000.0</td>\n",
       "      <td>M</td>\n",
       "      <td>M</td>\n",
       "      <td>9000000.0</td>\n",
       "      <td>1.0</td>\n",
       "      <td>TYPE-B</td>\n",
       "      <td>39</td>\n",
       "      <td>2</td>\n",
       "      <td>ANNUAL</td>\n",
       "      <td>200533</td>\n",
       "      <td>INFORCE</td>\n",
       "      <td>20070122</td>\n",
       "      <td>NaN</td>\n",
       "    </tr>\n",
       "    <tr>\n",
       "      <th>4</th>\n",
       "      <td>A00005</td>\n",
       "      <td>46</td>\n",
       "      <td>100000.0</td>\n",
       "      <td>M</td>\n",
       "      <td>M</td>\n",
       "      <td>4800000.0</td>\n",
       "      <td>1.0</td>\n",
       "      <td>TYPE-B</td>\n",
       "      <td>27</td>\n",
       "      <td>2</td>\n",
       "      <td>QUARTERLY</td>\n",
       "      <td>6988</td>\n",
       "      <td>INFORCE</td>\n",
       "      <td>20070131</td>\n",
       "      <td>NaN</td>\n",
       "    </tr>\n",
       "  </tbody>\n",
       "</table>\n",
       "</div>"
      ],
      "text/plain": [
       "  MEMBERSHIP_NUMBER  MEMBERSHIP_TERM_YEARS  ANNUAL_FEES MEMBER_MARITAL_STATUS  \\\n",
       "0            A00001                     29     113125.0                     M   \n",
       "1            A00002                     38     112220.0                     M   \n",
       "2            A00003                     12     100000.0                     M   \n",
       "3            A00004                     12     100000.0                     M   \n",
       "4            A00005                     46     100000.0                     M   \n",
       "\n",
       "  MEMBER_GENDER  MEMBER_ANNUAL_INCOME  MEMBER_OCCUPATION_CD  \\\n",
       "0             M            25200000.0                   1.0   \n",
       "1             M            10339200.0                   1.0   \n",
       "2             M            14400000.0                   1.0   \n",
       "3             M             9000000.0                   1.0   \n",
       "4             M             4800000.0                   1.0   \n",
       "\n",
       "  MEMBERSHIP_PACKAGE  MEMBER_AGE_AT_ISSUE  ADDITIONAL_MEMBERS PAYMENT_MODE  \\\n",
       "0             TYPE-B                   45                   2       ANNUAL   \n",
       "1             TYPE-B                   36                   3    QUARTERLY   \n",
       "2             TYPE-B                   42                   1       ANNUAL   \n",
       "3             TYPE-B                   39                   2       ANNUAL   \n",
       "4             TYPE-B                   27                   2    QUARTERLY   \n",
       "\n",
       "  AGENT_CODE MEMBERSHIP_STATUS  START_DATE (YYYYMMDD)  END_DATE  (YYYYMMDD)  \n",
       "0        477           INFORCE               20060914                   NaN  \n",
       "1        255           INFORCE               20061102                   NaN  \n",
       "2       7866           INFORCE               20070124                   NaN  \n",
       "3     200533           INFORCE               20070122                   NaN  \n",
       "4       6988           INFORCE               20070131                   NaN  "
      ]
     },
     "execution_count": 3,
     "metadata": {},
     "output_type": "execute_result"
    }
   ],
   "source": [
    "df.head() # It shows first 5 rows of the dataset."
   ]
  },
  {
   "cell_type": "code",
   "execution_count": 4,
   "id": "2e8823ee",
   "metadata": {
    "colab": {
     "base_uri": "https://localhost:8080/"
    },
    "id": "2e8823ee",
    "outputId": "e7e9d146-6ab2-4de8-eda1-91b0b42946c9"
   },
   "outputs": [
    {
     "data": {
      "text/plain": [
       "(10362, 15)"
      ]
     },
     "execution_count": 4,
     "metadata": {},
     "output_type": "execute_result"
    }
   ],
   "source": [
    "df.shape #It shows the total no.of rows and no.of columns of the dataset."
   ]
  },
  {
   "cell_type": "code",
   "execution_count": 5,
   "id": "573a1322",
   "metadata": {
    "colab": {
     "base_uri": "https://localhost:8080/"
    },
    "id": "573a1322",
    "outputId": "c00052c0-4fca-488a-efe1-695f800bab60"
   },
   "outputs": [
    {
     "data": {
      "text/plain": [
       "Index(['MEMBERSHIP_NUMBER', 'MEMBERSHIP_TERM_YEARS', 'ANNUAL_FEES',\n",
       "       'MEMBER_MARITAL_STATUS', 'MEMBER_GENDER', 'MEMBER_ANNUAL_INCOME',\n",
       "       'MEMBER_OCCUPATION_CD', 'MEMBERSHIP_PACKAGE', 'MEMBER_AGE_AT_ISSUE',\n",
       "       'ADDITIONAL_MEMBERS', 'PAYMENT_MODE', 'AGENT_CODE', 'MEMBERSHIP_STATUS',\n",
       "       'START_DATE (YYYYMMDD)', 'END_DATE  (YYYYMMDD)'],\n",
       "      dtype='object')"
      ]
     },
     "execution_count": 5,
     "metadata": {},
     "output_type": "execute_result"
    }
   ],
   "source": [
    "df.columns #It shows the name of each column."
   ]
  },
  {
   "cell_type": "code",
   "execution_count": 6,
   "id": "84508756",
   "metadata": {
    "colab": {
     "base_uri": "https://localhost:8080/"
    },
    "id": "84508756",
    "outputId": "c4b0d4e2-d5a2-4ef2-f2bf-4c1dd2856608"
   },
   "outputs": [
    {
     "data": {
      "text/plain": [
       "MEMBERSHIP_NUMBER           0\n",
       "MEMBERSHIP_TERM_YEARS       0\n",
       "ANNUAL_FEES                 0\n",
       "MEMBER_MARITAL_STATUS    2597\n",
       "MEMBER_GENDER             611\n",
       "MEMBER_ANNUAL_INCOME     1754\n",
       "MEMBER_OCCUPATION_CD       43\n",
       "MEMBERSHIP_PACKAGE          0\n",
       "MEMBER_AGE_AT_ISSUE         0\n",
       "ADDITIONAL_MEMBERS          0\n",
       "PAYMENT_MODE                0\n",
       "AGENT_CODE                  0\n",
       "MEMBERSHIP_STATUS           0\n",
       "START_DATE (YYYYMMDD)       0\n",
       "END_DATE  (YYYYMMDD)     7219\n",
       "dtype: int64"
      ]
     },
     "execution_count": 6,
     "metadata": {},
     "output_type": "execute_result"
    }
   ],
   "source": [
    "df.isnull().sum() #It counts null values in each column."
   ]
  },
  {
   "cell_type": "code",
   "execution_count": 7,
   "id": "688f6641",
   "metadata": {
    "colab": {
     "base_uri": "https://localhost:8080/",
     "height": 1000
    },
    "id": "688f6641",
    "outputId": "87733d33-9abd-4255-99fe-0c6e9049416b"
   },
   "outputs": [
    {
     "data": {
      "text/plain": [
       "<AxesSubplot:>"
      ]
     },
     "execution_count": 7,
     "metadata": {},
     "output_type": "execute_result"
    },
    {
     "data": {
      "image/png": "[encoded data removed]",
      "text/plain": [
       "<Figure size 864x864 with 2 Axes>"
      ]
     },
     "metadata": {
      "needs_background": "light"
     },
     "output_type": "display_data"
    }
   ],
   "source": [
    "plt.figure(figsize=(12,12))\n",
    "sns.heatmap(df.isnull(),cmap='viridis') ## Use seaborn's heatmap to visualize missing values in the DataFrame."
   ]
  },
  {
   "cell_type": "code",
   "execution_count": 8,
   "id": "894c1b30",
   "metadata": {
    "colab": {
     "base_uri": "https://localhost:8080/",
     "height": 337
    },
    "id": "894c1b30",
    "outputId": "711bb518-f66f-4235-8109-dd88dd1e17d7"
   },
   "outputs": [
    {
     "data": {
      "text/html": [
       "<div>\n",
       "<style scoped>\n",
       "    .dataframe tbody tr th:only-of-type {\n",
       "        vertical-align: middle;\n",
       "    }\n",
       "\n",
       "    .dataframe tbody tr th {\n",
       "        vertical-align: top;\n",
       "    }\n",
       "\n",
       "    .dataframe thead th {\n",
       "        text-align: right;\n",
       "    }\n",
       "</style>\n",
       "<table border=\"1\" class=\"dataframe\">\n",
       "  <thead>\n",
       "    <tr style=\"text-align: right;\">\n",
       "      <th></th>\n",
       "      <th>MEMBERSHIP_TERM_YEARS</th>\n",
       "      <th>ANNUAL_FEES</th>\n",
       "      <th>MEMBER_ANNUAL_INCOME</th>\n",
       "      <th>MEMBER_OCCUPATION_CD</th>\n",
       "      <th>MEMBER_AGE_AT_ISSUE</th>\n",
       "      <th>ADDITIONAL_MEMBERS</th>\n",
       "      <th>START_DATE (YYYYMMDD)</th>\n",
       "      <th>END_DATE  (YYYYMMDD)</th>\n",
       "    </tr>\n",
       "  </thead>\n",
       "  <tbody>\n",
       "    <tr>\n",
       "      <th>count</th>\n",
       "      <td>10362.000000</td>\n",
       "      <td>1.036200e+04</td>\n",
       "      <td>8.608000e+03</td>\n",
       "      <td>10319.000000</td>\n",
       "      <td>10362.000000</td>\n",
       "      <td>10362.000000</td>\n",
       "      <td>1.036200e+04</td>\n",
       "      <td>3.143000e+03</td>\n",
       "    </tr>\n",
       "    <tr>\n",
       "      <th>mean</th>\n",
       "      <td>29.395001</td>\n",
       "      <td>1.788122e+05</td>\n",
       "      <td>1.451100e+06</td>\n",
       "      <td>1.711019</td>\n",
       "      <td>46.798494</td>\n",
       "      <td>1.412276</td>\n",
       "      <td>2.010828e+07</td>\n",
       "      <td>2.011390e+07</td>\n",
       "    </tr>\n",
       "    <tr>\n",
       "      <th>std</th>\n",
       "      <td>22.427712</td>\n",
       "      <td>2.688747e+05</td>\n",
       "      <td>1.757174e+07</td>\n",
       "      <td>1.453960</td>\n",
       "      <td>13.897085</td>\n",
       "      <td>1.145136</td>\n",
       "      <td>1.719666e+04</td>\n",
       "      <td>1.378483e+04</td>\n",
       "    </tr>\n",
       "    <tr>\n",
       "      <th>min</th>\n",
       "      <td>9.000000</td>\n",
       "      <td>0.000000e+00</td>\n",
       "      <td>9.996000e+03</td>\n",
       "      <td>1.000000</td>\n",
       "      <td>0.000000</td>\n",
       "      <td>0.000000</td>\n",
       "      <td>2.006091e+07</td>\n",
       "      <td>2.007083e+07</td>\n",
       "    </tr>\n",
       "    <tr>\n",
       "      <th>25%</th>\n",
       "      <td>12.000000</td>\n",
       "      <td>1.000000e+05</td>\n",
       "      <td>3.999960e+05</td>\n",
       "      <td>1.000000</td>\n",
       "      <td>37.000000</td>\n",
       "      <td>0.000000</td>\n",
       "      <td>2.009123e+07</td>\n",
       "      <td>2.010122e+07</td>\n",
       "    </tr>\n",
       "    <tr>\n",
       "      <th>50%</th>\n",
       "      <td>19.000000</td>\n",
       "      <td>1.182093e+05</td>\n",
       "      <td>5.499960e+05</td>\n",
       "      <td>1.000000</td>\n",
       "      <td>46.000000</td>\n",
       "      <td>1.000000</td>\n",
       "      <td>2.010123e+07</td>\n",
       "      <td>2.011113e+07</td>\n",
       "    </tr>\n",
       "    <tr>\n",
       "      <th>75%</th>\n",
       "      <td>37.000000</td>\n",
       "      <td>1.900000e+05</td>\n",
       "      <td>9.999960e+05</td>\n",
       "      <td>2.000000</td>\n",
       "      <td>57.000000</td>\n",
       "      <td>2.000000</td>\n",
       "      <td>2.012123e+07</td>\n",
       "      <td>2.013012e+07</td>\n",
       "    </tr>\n",
       "    <tr>\n",
       "      <th>max</th>\n",
       "      <td>102.000000</td>\n",
       "      <td>1.010000e+07</td>\n",
       "      <td>1.000000e+09</td>\n",
       "      <td>6.000000</td>\n",
       "      <td>92.000000</td>\n",
       "      <td>3.000000</td>\n",
       "      <td>2.013113e+07</td>\n",
       "      <td>2.013112e+07</td>\n",
       "    </tr>\n",
       "  </tbody>\n",
       "</table>\n",
       "</div>"
      ],
      "text/plain": [
       "       MEMBERSHIP_TERM_YEARS   ANNUAL_FEES  MEMBER_ANNUAL_INCOME  \\\n",
       "count           10362.000000  1.036200e+04          8.608000e+03   \n",
       "mean               29.395001  1.788122e+05          1.451100e+06   \n",
       "std                22.427712  2.688747e+05          1.757174e+07   \n",
       "min                 9.000000  0.000000e+00          9.996000e+03   \n",
       "25%                12.000000  1.000000e+05          3.999960e+05   \n",
       "50%                19.000000  1.182093e+05          5.499960e+05   \n",
       "75%                37.000000  1.900000e+05          9.999960e+05   \n",
       "max               102.000000  1.010000e+07          1.000000e+09   \n",
       "\n",
       "       MEMBER_OCCUPATION_CD  MEMBER_AGE_AT_ISSUE  ADDITIONAL_MEMBERS  \\\n",
       "count          10319.000000         10362.000000        10362.000000   \n",
       "mean               1.711019            46.798494            1.412276   \n",
       "std                1.453960            13.897085            1.145136   \n",
       "min                1.000000             0.000000            0.000000   \n",
       "25%                1.000000            37.000000            0.000000   \n",
       "50%                1.000000            46.000000            1.000000   \n",
       "75%                2.000000            57.000000            2.000000   \n",
       "max                6.000000            92.000000            3.000000   \n",
       "\n",
       "       START_DATE (YYYYMMDD)  END_DATE  (YYYYMMDD)  \n",
       "count           1.036200e+04          3.143000e+03  \n",
       "mean            2.010828e+07          2.011390e+07  \n",
       "std             1.719666e+04          1.378483e+04  \n",
       "min             2.006091e+07          2.007083e+07  \n",
       "25%             2.009123e+07          2.010122e+07  \n",
       "50%             2.010123e+07          2.011113e+07  \n",
       "75%             2.012123e+07          2.013012e+07  \n",
       "max             2.013113e+07          2.013112e+07  "
      ]
     },
     "execution_count": 8,
     "metadata": {},
     "output_type": "execute_result"
    }
   ],
   "source": [
    "df.describe() #It is used for calculating statistical data like percentile,mean and std of numerical values of dataset."
   ]
  },
  {
   "cell_type": "code",
   "execution_count": 9,
   "id": "cf49d25c",
   "metadata": {
    "colab": {
     "base_uri": "https://localhost:8080/"
    },
    "id": "cf49d25c",
    "outputId": "113064af-2a5e-4c92-cf80-509a90f6dd3f"
   },
   "outputs": [
    {
     "data": {
      "text/plain": [
       "INFORCE      7219\n",
       "CANCELLED    3143\n",
       "Name: MEMBERSHIP_STATUS, dtype: int64"
      ]
     },
     "execution_count": 9,
     "metadata": {},
     "output_type": "execute_result"
    }
   ],
   "source": [
    "df['MEMBERSHIP_STATUS'].value_counts() # In a column, it shows all unique values with their count."
   ]
  },
  {
   "cell_type": "markdown",
   "id": "059033b2",
   "metadata": {},
   "source": [
    "CONVERTING DATASET INTO CATEGORICAL AND NUMERIC VALUES"
   ]
  },
  {
   "cell_type": "code",
   "execution_count": 10,
   "id": "86b383b0",
   "metadata": {
    "colab": {
     "base_uri": "https://localhost:8080/"
    },
    "id": "86b383b0",
    "outputId": "74041c63-a334-41da-d2c0-ad4377f22d5d"
   },
   "outputs": [
    {
     "name": "stdout",
     "output_type": "stream",
     "text": [
      "Categorical Variables:\n",
      "Index(['MEMBERSHIP_NUMBER', 'MEMBER_MARITAL_STATUS', 'MEMBER_GENDER',\n",
      "       'MEMBERSHIP_PACKAGE', 'PAYMENT_MODE', 'AGENT_CODE',\n",
      "       'MEMBERSHIP_STATUS'],\n",
      "      dtype='object')\n",
      "Numeric Variables:\n",
      "Index(['MEMBERSHIP_TERM_YEARS', 'ANNUAL_FEES', 'MEMBER_ANNUAL_INCOME',\n",
      "       'MEMBER_OCCUPATION_CD', 'MEMBER_AGE_AT_ISSUE', 'ADDITIONAL_MEMBERS',\n",
      "       'START_DATE (YYYYMMDD)', 'END_DATE  (YYYYMMDD)'],\n",
      "      dtype='object')\n"
     ]
    }
   ],
   "source": [
    "df= df.apply(lambda col: pd.Categorical(col) if col.dtype == 'O' else col)\n",
    "\n",
    "# Identify categorical variables\n",
    "cat_var = df.select_dtypes(include='category').columns\n",
    "print('Categorical Variables:')\n",
    "print(cat_var)\n",
    "\n",
    "# Identify numeric variables\n",
    "numeric_var = df.select_dtypes(include='number').columns\n",
    "print('Numeric Variables:')\n",
    "print(numeric_var)"
   ]
  },
  {
   "cell_type": "code",
   "execution_count": 11,
   "id": "53adf031",
   "metadata": {},
   "outputs": [
    {
     "data": {
      "image/png": "[encoded data removed]",
      "text/plain": [
       "<Figure size 1080x288 with 5 Axes>"
      ]
     },
     "metadata": {
      "needs_background": "light"
     },
     "output_type": "display_data"
    }
   ],
   "source": [
    "# Univariate analysis of Numeric Variables using Histograms\n",
    "numeric_var = ['MEMBERSHIP_TERM_YEARS', 'MEMBER_AGE_AT_ISSUE', 'MEMBER_ANNUAL_INCOME',\n",
    "               'ADDITIONAL_MEMBERS', 'ANNUAL_FEES']\n",
    "\n",
    "fig, axes = plt.subplots(nrows=1, ncols=len(numeric_var), figsize=(15, 4))\n",
    "\n",
    "for i, var in enumerate(numeric_var):\n",
    "    sns.histplot(df[var], bins=30, ax=axes[i])\n",
    "    axes[i].set_title(var)\n",
    "\n",
    "plt.tight_layout()\n",
    "plt.show()\n"
   ]
  },
  {
   "cell_type": "code",
   "execution_count": 12,
   "id": "111ed96a",
   "metadata": {
    "colab": {
     "base_uri": "https://localhost:8080/",
     "height": 330
    },
    "id": "111ed96a",
    "outputId": "af7a1a63-7a39-4ab9-d7a8-1e2b2e0f4ae7"
   },
   "outputs": [
    {
     "data": {
      "text/html": [
       "<div>\n",
       "<style scoped>\n",
       "    .dataframe tbody tr th:only-of-type {\n",
       "        vertical-align: middle;\n",
       "    }\n",
       "\n",
       "    .dataframe tbody tr th {\n",
       "        vertical-align: top;\n",
       "    }\n",
       "\n",
       "    .dataframe thead th {\n",
       "        text-align: right;\n",
       "    }\n",
       "</style>\n",
       "<table border=\"1\" class=\"dataframe\">\n",
       "  <thead>\n",
       "    <tr style=\"text-align: right;\">\n",
       "      <th></th>\n",
       "      <th>MEMBERSHIP_NUMBER</th>\n",
       "      <th>MEMBERSHIP_TERM_YEARS</th>\n",
       "      <th>ANNUAL_FEES</th>\n",
       "      <th>MEMBER_MARITAL_STATUS</th>\n",
       "      <th>MEMBER_GENDER</th>\n",
       "      <th>MEMBER_ANNUAL_INCOME</th>\n",
       "      <th>MEMBER_OCCUPATION_CD</th>\n",
       "      <th>MEMBERSHIP_PACKAGE</th>\n",
       "      <th>MEMBER_AGE_AT_ISSUE</th>\n",
       "      <th>ADDITIONAL_MEMBERS</th>\n",
       "      <th>PAYMENT_MODE</th>\n",
       "      <th>AGENT_CODE</th>\n",
       "      <th>MEMBERSHIP_STATUS</th>\n",
       "      <th>START_DATE (YYYYMMDD)</th>\n",
       "      <th>END_DATE  (YYYYMMDD)</th>\n",
       "      <th>START_YEAR</th>\n",
       "      <th>START_MONTH</th>\n",
       "      <th>AGE_GROUP</th>\n",
       "      <th>TERM_GROUP</th>\n",
       "      <th>TARGET</th>\n",
       "    </tr>\n",
       "  </thead>\n",
       "  <tbody>\n",
       "    <tr>\n",
       "      <th>0</th>\n",
       "      <td>A00001</td>\n",
       "      <td>29</td>\n",
       "      <td>113125.0</td>\n",
       "      <td>M</td>\n",
       "      <td>M</td>\n",
       "      <td>25200000.0</td>\n",
       "      <td>1.0</td>\n",
       "      <td>TYPE-B</td>\n",
       "      <td>45</td>\n",
       "      <td>2</td>\n",
       "      <td>ANNUAL</td>\n",
       "      <td>477</td>\n",
       "      <td>INFORCE</td>\n",
       "      <td>2006-09-14</td>\n",
       "      <td>NaT</td>\n",
       "      <td>2006</td>\n",
       "      <td>9</td>\n",
       "      <td>40-60 years</td>\n",
       "      <td>20-40 years</td>\n",
       "      <td>No</td>\n",
       "    </tr>\n",
       "    <tr>\n",
       "      <th>1</th>\n",
       "      <td>A00002</td>\n",
       "      <td>38</td>\n",
       "      <td>112220.0</td>\n",
       "      <td>M</td>\n",
       "      <td>M</td>\n",
       "      <td>10339200.0</td>\n",
       "      <td>1.0</td>\n",
       "      <td>TYPE-B</td>\n",
       "      <td>36</td>\n",
       "      <td>3</td>\n",
       "      <td>QUARTERLY</td>\n",
       "      <td>255</td>\n",
       "      <td>INFORCE</td>\n",
       "      <td>2006-11-02</td>\n",
       "      <td>NaT</td>\n",
       "      <td>2006</td>\n",
       "      <td>11</td>\n",
       "      <td>20-40 years</td>\n",
       "      <td>20-40 years</td>\n",
       "      <td>No</td>\n",
       "    </tr>\n",
       "    <tr>\n",
       "      <th>2</th>\n",
       "      <td>A00003</td>\n",
       "      <td>12</td>\n",
       "      <td>100000.0</td>\n",
       "      <td>M</td>\n",
       "      <td>M</td>\n",
       "      <td>14400000.0</td>\n",
       "      <td>1.0</td>\n",
       "      <td>TYPE-B</td>\n",
       "      <td>42</td>\n",
       "      <td>1</td>\n",
       "      <td>ANNUAL</td>\n",
       "      <td>7866</td>\n",
       "      <td>INFORCE</td>\n",
       "      <td>2007-01-24</td>\n",
       "      <td>NaT</td>\n",
       "      <td>2007</td>\n",
       "      <td>1</td>\n",
       "      <td>40-60 years</td>\n",
       "      <td>&lt;20 years</td>\n",
       "      <td>No</td>\n",
       "    </tr>\n",
       "    <tr>\n",
       "      <th>3</th>\n",
       "      <td>A00004</td>\n",
       "      <td>12</td>\n",
       "      <td>100000.0</td>\n",
       "      <td>M</td>\n",
       "      <td>M</td>\n",
       "      <td>9000000.0</td>\n",
       "      <td>1.0</td>\n",
       "      <td>TYPE-B</td>\n",
       "      <td>39</td>\n",
       "      <td>2</td>\n",
       "      <td>ANNUAL</td>\n",
       "      <td>200533</td>\n",
       "      <td>INFORCE</td>\n",
       "      <td>2007-01-22</td>\n",
       "      <td>NaT</td>\n",
       "      <td>2007</td>\n",
       "      <td>1</td>\n",
       "      <td>20-40 years</td>\n",
       "      <td>&lt;20 years</td>\n",
       "      <td>No</td>\n",
       "    </tr>\n",
       "    <tr>\n",
       "      <th>4</th>\n",
       "      <td>A00005</td>\n",
       "      <td>46</td>\n",
       "      <td>100000.0</td>\n",
       "      <td>M</td>\n",
       "      <td>M</td>\n",
       "      <td>4800000.0</td>\n",
       "      <td>1.0</td>\n",
       "      <td>TYPE-B</td>\n",
       "      <td>27</td>\n",
       "      <td>2</td>\n",
       "      <td>QUARTERLY</td>\n",
       "      <td>6988</td>\n",
       "      <td>INFORCE</td>\n",
       "      <td>2007-01-31</td>\n",
       "      <td>NaT</td>\n",
       "      <td>2007</td>\n",
       "      <td>1</td>\n",
       "      <td>20-40 years</td>\n",
       "      <td>40-60 years</td>\n",
       "      <td>No</td>\n",
       "    </tr>\n",
       "  </tbody>\n",
       "</table>\n",
       "</div>"
      ],
      "text/plain": [
       "  MEMBERSHIP_NUMBER  MEMBERSHIP_TERM_YEARS  ANNUAL_FEES MEMBER_MARITAL_STATUS  \\\n",
       "0            A00001                     29     113125.0                     M   \n",
       "1            A00002                     38     112220.0                     M   \n",
       "2            A00003                     12     100000.0                     M   \n",
       "3            A00004                     12     100000.0                     M   \n",
       "4            A00005                     46     100000.0                     M   \n",
       "\n",
       "  MEMBER_GENDER  MEMBER_ANNUAL_INCOME  MEMBER_OCCUPATION_CD  \\\n",
       "0             M            25200000.0                   1.0   \n",
       "1             M            10339200.0                   1.0   \n",
       "2             M            14400000.0                   1.0   \n",
       "3             M             9000000.0                   1.0   \n",
       "4             M             4800000.0                   1.0   \n",
       "\n",
       "  MEMBERSHIP_PACKAGE  MEMBER_AGE_AT_ISSUE  ADDITIONAL_MEMBERS PAYMENT_MODE  \\\n",
       "0             TYPE-B                   45                   2       ANNUAL   \n",
       "1             TYPE-B                   36                   3    QUARTERLY   \n",
       "2             TYPE-B                   42                   1       ANNUAL   \n",
       "3             TYPE-B                   39                   2       ANNUAL   \n",
       "4             TYPE-B                   27                   2    QUARTERLY   \n",
       "\n",
       "  AGENT_CODE MEMBERSHIP_STATUS START_DATE (YYYYMMDD) END_DATE  (YYYYMMDD)  \\\n",
       "0        477           INFORCE            2006-09-14                  NaT   \n",
       "1        255           INFORCE            2006-11-02                  NaT   \n",
       "2       7866           INFORCE            2007-01-24                  NaT   \n",
       "3     200533           INFORCE            2007-01-22                  NaT   \n",
       "4       6988           INFORCE            2007-01-31                  NaT   \n",
       "\n",
       "   START_YEAR START_MONTH    AGE_GROUP   TERM_GROUP TARGET  \n",
       "0        2006           9  40-60 years  20-40 years     No  \n",
       "1        2006          11  20-40 years  20-40 years     No  \n",
       "2        2007           1  40-60 years    <20 years     No  \n",
       "3        2007           1  20-40 years    <20 years     No  \n",
       "4        2007           1  20-40 years  40-60 years     No  "
      ]
     },
     "execution_count": 12,
     "metadata": {},
     "output_type": "execute_result"
    }
   ],
   "source": [
    "# Convert START_DATE and END_DATE to datetime\n",
    "df['START_DATE (YYYYMMDD)'] = pd.to_datetime(df['START_DATE (YYYYMMDD)'], format=\"%Y%m%d\")\n",
    "df['END_DATE  (YYYYMMDD)'] = pd.to_datetime(df['END_DATE  (YYYYMMDD)'], format=\"%Y%m%d\")\n",
    "\n",
    "# Extract year and month from START_DATE\n",
    "df['START_YEAR'] = df['START_DATE (YYYYMMDD)'].dt.year\n",
    "df['START_MONTH'] = df['START_DATE (YYYYMMDD)'].dt.month.astype('category')\n",
    "\n",
    "# Create AGE_GROUP based on MEMBER_AGE_AT_ISSUE\n",
    "conditions_age = [\n",
    "    (df['MEMBER_AGE_AT_ISSUE'] < 20),\n",
    "    (df['MEMBER_AGE_AT_ISSUE'] >= 20) & (df['MEMBER_AGE_AT_ISSUE'] < 40),\n",
    "    (df['MEMBER_AGE_AT_ISSUE'] >= 40) & (df['MEMBER_AGE_AT_ISSUE'] < 60),\n",
    "    (df['MEMBER_AGE_AT_ISSUE'] >= 60) & (df['MEMBER_AGE_AT_ISSUE'] < 80),\n",
    "    (df['MEMBER_AGE_AT_ISSUE'] >= 80)\n",
    "]\n",
    "values_age = ['<20 years', '20-40 years', '40-60 years', '60-80 years', '>80 years']\n",
    "df['AGE_GROUP'] = np.select(conditions_age, values_age)\n",
    "\n",
    "# Create TERM_GROUP based on MEMBERSHIP_TERM_YEARS\n",
    "conditions_term = [\n",
    "    (df['MEMBERSHIP_TERM_YEARS'] < 20),\n",
    "    (df['MEMBERSHIP_TERM_YEARS'] >= 20) & (df['MEMBERSHIP_TERM_YEARS'] < 40),\n",
    "    (df['MEMBERSHIP_TERM_YEARS'] >= 40) & (df['MEMBERSHIP_TERM_YEARS'] < 60),\n",
    "    (df['MEMBERSHIP_TERM_YEARS'] >= 60) & (df['MEMBERSHIP_TERM_YEARS'] < 80),\n",
    "    (df['MEMBERSHIP_TERM_YEARS'] >= 80) & (df['MEMBERSHIP_TERM_YEARS'] < 100),\n",
    "    (df['MEMBERSHIP_TERM_YEARS'] >= 100)\n",
    "]\n",
    "values_term = ['<20 years', '20-40 years', '40-60 years', '60-80 years', '80-100 years', '>100 years']\n",
    "df['TERM_GROUP'] = np.select(conditions_term, values_term)\n",
    "\n",
    "# Create TARGET variable based on MEMBERSHIP_STATUS\n",
    "df['TARGET'] = np.where(df['MEMBERSHIP_STATUS'] == 'INFORCE', 'No', 'Yes')\n",
    "\n",
    "# Display the first few rows of the DataFrame\n",
    "df.head()"
   ]
  },
  {
   "cell_type": "markdown",
   "id": "52d4f018",
   "metadata": {},
   "source": [
    "DATA REDUCTION"
   ]
  },
  {
   "cell_type": "code",
   "execution_count": 17,
   "id": "30096da8",
   "metadata": {
    "colab": {
     "base_uri": "https://localhost:8080/",
     "height": 1000
    },
    "id": "30096da8",
    "outputId": "e1f57c35-8cdf-4634-fc77-9651dec5a99b"
   },
   "outputs": [
    {
     "data": {
      "image/png": "[encoded data removed]",
      "text/plain": [
       "<Figure size 864x576 with 2 Axes>"
      ]
     },
     "metadata": {
      "needs_background": "light"
     },
     "output_type": "display_data"
    },
    {
     "data": {
      "text/html": [
       "<div>\n",
       "<style scoped>\n",
       "    .dataframe tbody tr th:only-of-type {\n",
       "        vertical-align: middle;\n",
       "    }\n",
       "\n",
       "    .dataframe tbody tr th {\n",
       "        vertical-align: top;\n",
       "    }\n",
       "\n",
       "    .dataframe thead th {\n",
       "        text-align: right;\n",
       "    }\n",
       "</style>\n",
       "<table border=\"1\" class=\"dataframe\">\n",
       "  <thead>\n",
       "    <tr style=\"text-align: right;\">\n",
       "      <th></th>\n",
       "      <th>ANNUAL_FEES</th>\n",
       "      <th>MEMBER_MARITAL_STATUS</th>\n",
       "      <th>MEMBER_GENDER</th>\n",
       "      <th>MEMBER_ANNUAL_INCOME</th>\n",
       "      <th>MEMBER_OCCUPATION_CD</th>\n",
       "      <th>MEMBERSHIP_PACKAGE</th>\n",
       "      <th>ADDITIONAL_MEMBERS</th>\n",
       "      <th>PAYMENT_MODE</th>\n",
       "      <th>START_YEAR</th>\n",
       "      <th>START_MONTH</th>\n",
       "      <th>AGE_GROUP</th>\n",
       "      <th>TERM_GROUP</th>\n",
       "      <th>TARGET</th>\n",
       "    </tr>\n",
       "  </thead>\n",
       "  <tbody>\n",
       "    <tr>\n",
       "      <th>0</th>\n",
       "      <td>113125.0</td>\n",
       "      <td>M</td>\n",
       "      <td>M</td>\n",
       "      <td>25200000.0</td>\n",
       "      <td>1.0</td>\n",
       "      <td>TYPE-B</td>\n",
       "      <td>2</td>\n",
       "      <td>ANNUAL</td>\n",
       "      <td>2006</td>\n",
       "      <td>9</td>\n",
       "      <td>40-60 years</td>\n",
       "      <td>20-40 years</td>\n",
       "      <td>No</td>\n",
       "    </tr>\n",
       "    <tr>\n",
       "      <th>1</th>\n",
       "      <td>112220.0</td>\n",
       "      <td>M</td>\n",
       "      <td>M</td>\n",
       "      <td>10339200.0</td>\n",
       "      <td>1.0</td>\n",
       "      <td>TYPE-B</td>\n",
       "      <td>3</td>\n",
       "      <td>QUARTERLY</td>\n",
       "      <td>2006</td>\n",
       "      <td>11</td>\n",
       "      <td>20-40 years</td>\n",
       "      <td>20-40 years</td>\n",
       "      <td>No</td>\n",
       "    </tr>\n",
       "    <tr>\n",
       "      <th>2</th>\n",
       "      <td>100000.0</td>\n",
       "      <td>M</td>\n",
       "      <td>M</td>\n",
       "      <td>14400000.0</td>\n",
       "      <td>1.0</td>\n",
       "      <td>TYPE-B</td>\n",
       "      <td>1</td>\n",
       "      <td>ANNUAL</td>\n",
       "      <td>2007</td>\n",
       "      <td>1</td>\n",
       "      <td>40-60 years</td>\n",
       "      <td>&lt;20 years</td>\n",
       "      <td>No</td>\n",
       "    </tr>\n",
       "    <tr>\n",
       "      <th>3</th>\n",
       "      <td>100000.0</td>\n",
       "      <td>M</td>\n",
       "      <td>M</td>\n",
       "      <td>9000000.0</td>\n",
       "      <td>1.0</td>\n",
       "      <td>TYPE-B</td>\n",
       "      <td>2</td>\n",
       "      <td>ANNUAL</td>\n",
       "      <td>2007</td>\n",
       "      <td>1</td>\n",
       "      <td>20-40 years</td>\n",
       "      <td>&lt;20 years</td>\n",
       "      <td>No</td>\n",
       "    </tr>\n",
       "    <tr>\n",
       "      <th>4</th>\n",
       "      <td>100000.0</td>\n",
       "      <td>M</td>\n",
       "      <td>M</td>\n",
       "      <td>4800000.0</td>\n",
       "      <td>1.0</td>\n",
       "      <td>TYPE-B</td>\n",
       "      <td>2</td>\n",
       "      <td>QUARTERLY</td>\n",
       "      <td>2007</td>\n",
       "      <td>1</td>\n",
       "      <td>20-40 years</td>\n",
       "      <td>40-60 years</td>\n",
       "      <td>No</td>\n",
       "    </tr>\n",
       "  </tbody>\n",
       "</table>\n",
       "</div>"
      ],
      "text/plain": [
       "   ANNUAL_FEES MEMBER_MARITAL_STATUS MEMBER_GENDER  MEMBER_ANNUAL_INCOME  \\\n",
       "0     113125.0                     M             M            25200000.0   \n",
       "1     112220.0                     M             M            10339200.0   \n",
       "2     100000.0                     M             M            14400000.0   \n",
       "3     100000.0                     M             M             9000000.0   \n",
       "4     100000.0                     M             M             4800000.0   \n",
       "\n",
       "   MEMBER_OCCUPATION_CD MEMBERSHIP_PACKAGE  ADDITIONAL_MEMBERS PAYMENT_MODE  \\\n",
       "0                   1.0             TYPE-B                   2       ANNUAL   \n",
       "1                   1.0             TYPE-B                   3    QUARTERLY   \n",
       "2                   1.0             TYPE-B                   1       ANNUAL   \n",
       "3                   1.0             TYPE-B                   2       ANNUAL   \n",
       "4                   1.0             TYPE-B                   2    QUARTERLY   \n",
       "\n",
       "   START_YEAR START_MONTH    AGE_GROUP   TERM_GROUP TARGET  \n",
       "0        2006           9  40-60 years  20-40 years     No  \n",
       "1        2006          11  20-40 years  20-40 years     No  \n",
       "2        2007           1  40-60 years    <20 years     No  \n",
       "3        2007           1  20-40 years    <20 years     No  \n",
       "4        2007           1  20-40 years  40-60 years     No  "
      ]
     },
     "execution_count": 17,
     "metadata": {},
     "output_type": "execute_result"
    }
   ],
   "source": [
    "correlation_matrix = df.select_dtypes(include='number').corr()\n",
    "\n",
    "# Plot the correlation matrix using seaborn\n",
    "plt.figure(figsize=(12, 8))\n",
    "sns.heatmap(correlation_matrix, annot=True, cmap='coolwarm', fmt=\".2f\", linewidths=0.5)\n",
    "plt.title('Correlation Matrix')\n",
    "plt.show()\n",
    "\n",
    "# Drop unnecessary variables\n",
    "variables_to_drop = ['MEMBERSHIP_TERM_YEARS', 'START_DATE (YYYYMMDD)', 'MEMBERSHIP_NUMBER', 'AGENT_CODE',\n",
    "                      'MEMBER_AGE_AT_ISSUE', 'MEMBERSHIP_STATUS', 'END_DATE  (YYYYMMDD)']\n",
    "new_data = df.drop(columns=variables_to_drop)\n",
    "\n",
    "# Display the first few rows of the new DataFrame\n",
    "new_data.head()\n",
    "\n"
   ]
  },
  {
   "cell_type": "code",
   "execution_count": 18,
   "id": "23c881dc",
   "metadata": {
    "colab": {
     "base_uri": "https://localhost:8080/"
    },
    "id": "23c881dc",
    "outputId": "20d8d88a-7618-444e-cc0e-2033aa97c694"
   },
   "outputs": [
    {
     "data": {
      "text/plain": [
       "(10362, 13)"
      ]
     },
     "execution_count": 18,
     "metadata": {},
     "output_type": "execute_result"
    }
   ],
   "source": [
    "new_data.shape"
   ]
  },
  {
   "cell_type": "code",
   "execution_count": 19,
   "id": "ff6a5f2b",
   "metadata": {
    "colab": {
     "base_uri": "https://localhost:8080/"
    },
    "id": "ff6a5f2b",
    "outputId": "0af6f0e6-8c19-4649-eafb-1813faf9df7d"
   },
   "outputs": [
    {
     "data": {
      "text/plain": [
       "ANNUAL_FEES                 0\n",
       "MEMBER_MARITAL_STATUS    2597\n",
       "MEMBER_GENDER             611\n",
       "MEMBER_ANNUAL_INCOME     1754\n",
       "MEMBER_OCCUPATION_CD       43\n",
       "MEMBERSHIP_PACKAGE          0\n",
       "ADDITIONAL_MEMBERS          0\n",
       "PAYMENT_MODE                0\n",
       "START_YEAR                  0\n",
       "START_MONTH                 0\n",
       "AGE_GROUP                   0\n",
       "TERM_GROUP                  0\n",
       "TARGET                      0\n",
       "dtype: int64"
      ]
     },
     "execution_count": 19,
     "metadata": {},
     "output_type": "execute_result"
    }
   ],
   "source": [
    "new_data.isnull().sum()"
   ]
  },
  {
   "cell_type": "code",
   "execution_count": 20,
   "id": "a19e8ecf",
   "metadata": {
    "colab": {
     "base_uri": "https://localhost:8080/"
    },
    "id": "a19e8ecf",
    "outputId": "e61a1074-5a1b-451c-f952-33a581ac45ca"
   },
   "outputs": [
    {
     "name": "stdout",
     "output_type": "stream",
     "text": [
      "Unique Values of MEMBER_OCCUPATION_CD:[ 1.  4.  5.  6. nan  2.  3.]\n",
      "Unique Values of MEMBER_MARITAL_STATUS: ['M', NaN, 'S', 'W', 'D']\n",
      "Categories (4, object): ['D', 'M', 'S', 'W']\n",
      "Unique Values of MEMBER_GENDER: ['M', NaN, 'F']\n",
      "Categories (2, object): ['F', 'M']\n"
     ]
    }
   ],
   "source": [
    "print(f\"Unique Values of MEMBER_OCCUPATION_CD:{new_data['MEMBER_OCCUPATION_CD'].unique()}\")\n",
    "print(f\"Unique Values of MEMBER_MARITAL_STATUS: {new_data['MEMBER_MARITAL_STATUS'].unique()}\")\n",
    "print(f\"Unique Values of MEMBER_GENDER: {new_data['MEMBER_GENDER'].unique()}\")"
   ]
  },
  {
   "cell_type": "code",
   "execution_count": 21,
   "id": "e4bff36d",
   "metadata": {
    "colab": {
     "base_uri": "https://localhost:8080/"
    },
    "id": "e4bff36d",
    "outputId": "24fee8ea-4d11-4bc3-aa17-e7ba1ab86c51"
   },
   "outputs": [
    {
     "data": {
      "text/plain": [
       "M    7330\n",
       "F    2421\n",
       "Name: MEMBER_GENDER, dtype: int64"
      ]
     },
     "execution_count": 21,
     "metadata": {},
     "output_type": "execute_result"
    }
   ],
   "source": [
    "new_data['MEMBER_GENDER'].value_counts()"
   ]
  },
  {
   "cell_type": "code",
   "execution_count": 22,
   "id": "98b717df",
   "metadata": {
    "id": "98b717df"
   },
   "outputs": [],
   "source": [
    "new_data.dropna(subset=['MEMBER_OCCUPATION_CD'],axis=0,inplace=True)"
   ]
  },
  {
   "cell_type": "code",
   "execution_count": 23,
   "id": "16f2e1fd",
   "metadata": {
    "colab": {
     "base_uri": "https://localhost:8080/"
    },
    "id": "16f2e1fd",
    "outputId": "313e2d6a-1d13-44ae-a632-45f1a4f985c2"
   },
   "outputs": [
    {
     "data": {
      "text/plain": [
       "(10319, 13)"
      ]
     },
     "execution_count": 23,
     "metadata": {},
     "output_type": "execute_result"
    }
   ],
   "source": [
    "new_data.shape"
   ]
  },
  {
   "cell_type": "code",
   "execution_count": 24,
   "id": "53abeed4",
   "metadata": {
    "colab": {
     "base_uri": "https://localhost:8080/"
    },
    "id": "53abeed4",
    "outputId": "5c1f749d-14fd-470b-a0bc-8352dd492b48"
   },
   "outputs": [
    {
     "data": {
      "text/plain": [
       "ANNUAL_FEES                 0\n",
       "MEMBER_MARITAL_STATUS    2570\n",
       "MEMBER_GENDER             596\n",
       "MEMBER_ANNUAL_INCOME     1730\n",
       "MEMBER_OCCUPATION_CD        0\n",
       "MEMBERSHIP_PACKAGE          0\n",
       "ADDITIONAL_MEMBERS          0\n",
       "PAYMENT_MODE                0\n",
       "START_YEAR                  0\n",
       "START_MONTH                 0\n",
       "AGE_GROUP                   0\n",
       "TERM_GROUP                  0\n",
       "TARGET                      0\n",
       "dtype: int64"
      ]
     },
     "execution_count": 24,
     "metadata": {},
     "output_type": "execute_result"
    }
   ],
   "source": [
    "new_data.isnull().sum()"
   ]
  },
  {
   "cell_type": "code",
   "execution_count": 25,
   "id": "6b5d936f",
   "metadata": {
    "colab": {
     "base_uri": "https://localhost:8080/",
     "height": 617
    },
    "id": "6b5d936f",
    "outputId": "80feb3a0-87d2-4a0f-d9be-ce8054f7f69c"
   },
   "outputs": [
    {
     "data": {
      "text/html": [
       "<div>\n",
       "<style scoped>\n",
       "    .dataframe tbody tr th:only-of-type {\n",
       "        vertical-align: middle;\n",
       "    }\n",
       "\n",
       "    .dataframe tbody tr th {\n",
       "        vertical-align: top;\n",
       "    }\n",
       "\n",
       "    .dataframe thead th {\n",
       "        text-align: right;\n",
       "    }\n",
       "</style>\n",
       "<table border=\"1\" class=\"dataframe\">\n",
       "  <thead>\n",
       "    <tr style=\"text-align: right;\">\n",
       "      <th></th>\n",
       "      <th>ANNUAL_FEES</th>\n",
       "      <th>MEMBER_MARITAL_STATUS</th>\n",
       "      <th>MEMBER_GENDER</th>\n",
       "      <th>MEMBER_ANNUAL_INCOME</th>\n",
       "      <th>MEMBER_OCCUPATION_CD</th>\n",
       "      <th>MEMBERSHIP_PACKAGE</th>\n",
       "      <th>ADDITIONAL_MEMBERS</th>\n",
       "      <th>PAYMENT_MODE</th>\n",
       "      <th>START_YEAR</th>\n",
       "      <th>START_MONTH</th>\n",
       "      <th>AGE_GROUP</th>\n",
       "      <th>TERM_GROUP</th>\n",
       "      <th>TARGET</th>\n",
       "    </tr>\n",
       "  </thead>\n",
       "  <tbody>\n",
       "    <tr>\n",
       "      <th>0</th>\n",
       "      <td>113125.00</td>\n",
       "      <td>M</td>\n",
       "      <td>M</td>\n",
       "      <td>25200000.0</td>\n",
       "      <td>1.0</td>\n",
       "      <td>TYPE-B</td>\n",
       "      <td>2</td>\n",
       "      <td>ANNUAL</td>\n",
       "      <td>2006</td>\n",
       "      <td>9</td>\n",
       "      <td>40-60 years</td>\n",
       "      <td>20-40 years</td>\n",
       "      <td>No</td>\n",
       "    </tr>\n",
       "    <tr>\n",
       "      <th>1</th>\n",
       "      <td>112220.00</td>\n",
       "      <td>M</td>\n",
       "      <td>M</td>\n",
       "      <td>10339200.0</td>\n",
       "      <td>1.0</td>\n",
       "      <td>TYPE-B</td>\n",
       "      <td>3</td>\n",
       "      <td>QUARTERLY</td>\n",
       "      <td>2006</td>\n",
       "      <td>11</td>\n",
       "      <td>20-40 years</td>\n",
       "      <td>20-40 years</td>\n",
       "      <td>No</td>\n",
       "    </tr>\n",
       "    <tr>\n",
       "      <th>2</th>\n",
       "      <td>100000.00</td>\n",
       "      <td>M</td>\n",
       "      <td>M</td>\n",
       "      <td>14400000.0</td>\n",
       "      <td>1.0</td>\n",
       "      <td>TYPE-B</td>\n",
       "      <td>1</td>\n",
       "      <td>ANNUAL</td>\n",
       "      <td>2007</td>\n",
       "      <td>1</td>\n",
       "      <td>40-60 years</td>\n",
       "      <td>&lt;20 years</td>\n",
       "      <td>No</td>\n",
       "    </tr>\n",
       "    <tr>\n",
       "      <th>3</th>\n",
       "      <td>100000.00</td>\n",
       "      <td>M</td>\n",
       "      <td>M</td>\n",
       "      <td>9000000.0</td>\n",
       "      <td>1.0</td>\n",
       "      <td>TYPE-B</td>\n",
       "      <td>2</td>\n",
       "      <td>ANNUAL</td>\n",
       "      <td>2007</td>\n",
       "      <td>1</td>\n",
       "      <td>20-40 years</td>\n",
       "      <td>&lt;20 years</td>\n",
       "      <td>No</td>\n",
       "    </tr>\n",
       "    <tr>\n",
       "      <th>4</th>\n",
       "      <td>100000.00</td>\n",
       "      <td>M</td>\n",
       "      <td>M</td>\n",
       "      <td>4800000.0</td>\n",
       "      <td>1.0</td>\n",
       "      <td>TYPE-B</td>\n",
       "      <td>2</td>\n",
       "      <td>QUARTERLY</td>\n",
       "      <td>2007</td>\n",
       "      <td>1</td>\n",
       "      <td>20-40 years</td>\n",
       "      <td>40-60 years</td>\n",
       "      <td>No</td>\n",
       "    </tr>\n",
       "    <tr>\n",
       "      <th>...</th>\n",
       "      <td>...</td>\n",
       "      <td>...</td>\n",
       "      <td>...</td>\n",
       "      <td>...</td>\n",
       "      <td>...</td>\n",
       "      <td>...</td>\n",
       "      <td>...</td>\n",
       "      <td>...</td>\n",
       "      <td>...</td>\n",
       "      <td>...</td>\n",
       "      <td>...</td>\n",
       "      <td>...</td>\n",
       "      <td>...</td>\n",
       "    </tr>\n",
       "    <tr>\n",
       "      <th>10357</th>\n",
       "      <td>206180.15</td>\n",
       "      <td>NaN</td>\n",
       "      <td>M</td>\n",
       "      <td>NaN</td>\n",
       "      <td>6.0</td>\n",
       "      <td>TYPE-A</td>\n",
       "      <td>0</td>\n",
       "      <td>ANNUAL</td>\n",
       "      <td>2013</td>\n",
       "      <td>11</td>\n",
       "      <td>60-80 years</td>\n",
       "      <td>&lt;20 years</td>\n",
       "      <td>No</td>\n",
       "    </tr>\n",
       "    <tr>\n",
       "      <th>10358</th>\n",
       "      <td>100000.42</td>\n",
       "      <td>NaN</td>\n",
       "      <td>F</td>\n",
       "      <td>399996.0</td>\n",
       "      <td>2.0</td>\n",
       "      <td>TYPE-A</td>\n",
       "      <td>0</td>\n",
       "      <td>ANNUAL</td>\n",
       "      <td>2013</td>\n",
       "      <td>11</td>\n",
       "      <td>60-80 years</td>\n",
       "      <td>20-40 years</td>\n",
       "      <td>No</td>\n",
       "    </tr>\n",
       "    <tr>\n",
       "      <th>10359</th>\n",
       "      <td>270950.45</td>\n",
       "      <td>NaN</td>\n",
       "      <td>M</td>\n",
       "      <td>NaN</td>\n",
       "      <td>6.0</td>\n",
       "      <td>TYPE-A</td>\n",
       "      <td>3</td>\n",
       "      <td>ANNUAL</td>\n",
       "      <td>2013</td>\n",
       "      <td>11</td>\n",
       "      <td>60-80 years</td>\n",
       "      <td>&lt;20 years</td>\n",
       "      <td>No</td>\n",
       "    </tr>\n",
       "    <tr>\n",
       "      <th>10360</th>\n",
       "      <td>210006.61</td>\n",
       "      <td>NaN</td>\n",
       "      <td>M</td>\n",
       "      <td>NaN</td>\n",
       "      <td>6.0</td>\n",
       "      <td>TYPE-A</td>\n",
       "      <td>2</td>\n",
       "      <td>ANNUAL</td>\n",
       "      <td>2013</td>\n",
       "      <td>11</td>\n",
       "      <td>60-80 years</td>\n",
       "      <td>40-60 years</td>\n",
       "      <td>No</td>\n",
       "    </tr>\n",
       "    <tr>\n",
       "      <th>10361</th>\n",
       "      <td>100000.36</td>\n",
       "      <td>W</td>\n",
       "      <td>F</td>\n",
       "      <td>300000.0</td>\n",
       "      <td>1.0</td>\n",
       "      <td>TYPE-A</td>\n",
       "      <td>0</td>\n",
       "      <td>SEMI-ANNUAL</td>\n",
       "      <td>2013</td>\n",
       "      <td>11</td>\n",
       "      <td>40-60 years</td>\n",
       "      <td>&lt;20 years</td>\n",
       "      <td>No</td>\n",
       "    </tr>\n",
       "  </tbody>\n",
       "</table>\n",
       "<p>10319 rows × 13 columns</p>\n",
       "</div>"
      ],
      "text/plain": [
       "       ANNUAL_FEES MEMBER_MARITAL_STATUS MEMBER_GENDER  MEMBER_ANNUAL_INCOME  \\\n",
       "0        113125.00                     M             M            25200000.0   \n",
       "1        112220.00                     M             M            10339200.0   \n",
       "2        100000.00                     M             M            14400000.0   \n",
       "3        100000.00                     M             M             9000000.0   \n",
       "4        100000.00                     M             M             4800000.0   \n",
       "...            ...                   ...           ...                   ...   \n",
       "10357    206180.15                   NaN             M                   NaN   \n",
       "10358    100000.42                   NaN             F              399996.0   \n",
       "10359    270950.45                   NaN             M                   NaN   \n",
       "10360    210006.61                   NaN             M                   NaN   \n",
       "10361    100000.36                     W             F              300000.0   \n",
       "\n",
       "       MEMBER_OCCUPATION_CD MEMBERSHIP_PACKAGE  ADDITIONAL_MEMBERS  \\\n",
       "0                       1.0             TYPE-B                   2   \n",
       "1                       1.0             TYPE-B                   3   \n",
       "2                       1.0             TYPE-B                   1   \n",
       "3                       1.0             TYPE-B                   2   \n",
       "4                       1.0             TYPE-B                   2   \n",
       "...                     ...                ...                 ...   \n",
       "10357                   6.0             TYPE-A                   0   \n",
       "10358                   2.0             TYPE-A                   0   \n",
       "10359                   6.0             TYPE-A                   3   \n",
       "10360                   6.0             TYPE-A                   2   \n",
       "10361                   1.0             TYPE-A                   0   \n",
       "\n",
       "      PAYMENT_MODE  START_YEAR START_MONTH    AGE_GROUP   TERM_GROUP TARGET  \n",
       "0           ANNUAL        2006           9  40-60 years  20-40 years     No  \n",
       "1        QUARTERLY        2006          11  20-40 years  20-40 years     No  \n",
       "2           ANNUAL        2007           1  40-60 years    <20 years     No  \n",
       "3           ANNUAL        2007           1  20-40 years    <20 years     No  \n",
       "4        QUARTERLY        2007           1  20-40 years  40-60 years     No  \n",
       "...            ...         ...         ...          ...          ...    ...  \n",
       "10357       ANNUAL        2013          11  60-80 years    <20 years     No  \n",
       "10358       ANNUAL        2013          11  60-80 years  20-40 years     No  \n",
       "10359       ANNUAL        2013          11  60-80 years    <20 years     No  \n",
       "10360       ANNUAL        2013          11  60-80 years  40-60 years     No  \n",
       "10361  SEMI-ANNUAL        2013          11  40-60 years    <20 years     No  \n",
       "\n",
       "[10319 rows x 13 columns]"
      ]
     },
     "execution_count": 25,
     "metadata": {},
     "output_type": "execute_result"
    }
   ],
   "source": [
    "Mode_Gender=new_data[\"MEMBER_GENDER\"].mode()\n",
    "new_data['MEMBER_GENDER']=np.where(new_data['MEMBER_GENDER']==list(new_data['MEMBER_GENDER'].unique())[1],Mode_Gender,new_data['MEMBER_GENDER'])\n",
    "new_data"
   ]
  },
  {
   "cell_type": "code",
   "execution_count": 26,
   "id": "722abee7",
   "metadata": {
    "colab": {
     "base_uri": "https://localhost:8080/"
    },
    "id": "722abee7",
    "outputId": "66de4a9e-6152-473a-b4b8-f2309404a4ff"
   },
   "outputs": [
    {
     "data": {
      "text/plain": [
       "M    7313\n",
       "F    2410\n",
       "Name: MEMBER_GENDER, dtype: int64"
      ]
     },
     "execution_count": 26,
     "metadata": {},
     "output_type": "execute_result"
    }
   ],
   "source": [
    "new_data['MEMBER_GENDER'].value_counts()"
   ]
  },
  {
   "cell_type": "code",
   "execution_count": 27,
   "id": "21cd31a0",
   "metadata": {
    "colab": {
     "base_uri": "https://localhost:8080/"
    },
    "id": "21cd31a0",
    "outputId": "3fad0e80-9c1c-4750-e2ab-84a887c2d309"
   },
   "outputs": [
    {
     "data": {
      "text/plain": [
       "ANNUAL_FEES                 0\n",
       "MEMBER_MARITAL_STATUS    2570\n",
       "MEMBER_GENDER             596\n",
       "MEMBER_ANNUAL_INCOME     1730\n",
       "MEMBER_OCCUPATION_CD        0\n",
       "MEMBERSHIP_PACKAGE          0\n",
       "ADDITIONAL_MEMBERS          0\n",
       "PAYMENT_MODE                0\n",
       "START_YEAR                  0\n",
       "START_MONTH                 0\n",
       "AGE_GROUP                   0\n",
       "TERM_GROUP                  0\n",
       "TARGET                      0\n",
       "dtype: int64"
      ]
     },
     "execution_count": 27,
     "metadata": {},
     "output_type": "execute_result"
    }
   ],
   "source": [
    "new_data.isnull().sum()"
   ]
  },
  {
   "cell_type": "code",
   "execution_count": 28,
   "id": "49ff49b5",
   "metadata": {
    "id": "49ff49b5"
   },
   "outputs": [],
   "source": [
    "new_data['MEMBER_GENDER'].fillna(new_data['MEMBER_GENDER'].mode().iloc[0], inplace=True)"
   ]
  },
  {
   "cell_type": "code",
   "execution_count": 29,
   "id": "1cfb7302",
   "metadata": {
    "colab": {
     "base_uri": "https://localhost:8080/"
    },
    "id": "1cfb7302",
    "outputId": "87ecc821-76a4-4eb2-8dd4-5586d4bfadf6"
   },
   "outputs": [
    {
     "data": {
      "text/plain": [
       "M    7909\n",
       "F    2410\n",
       "Name: MEMBER_GENDER, dtype: int64"
      ]
     },
     "execution_count": 29,
     "metadata": {},
     "output_type": "execute_result"
    }
   ],
   "source": [
    "new_data['MEMBER_GENDER'].value_counts()"
   ]
  },
  {
   "cell_type": "code",
   "execution_count": 30,
   "id": "1cd3625f",
   "metadata": {
    "colab": {
     "base_uri": "https://localhost:8080/"
    },
    "id": "1cd3625f",
    "outputId": "368494d3-fa38-4e77-9f99-ec8e882084e0"
   },
   "outputs": [
    {
     "data": {
      "text/plain": [
       "ANNUAL_FEES                 0\n",
       "MEMBER_MARITAL_STATUS    2570\n",
       "MEMBER_GENDER               0\n",
       "MEMBER_ANNUAL_INCOME     1730\n",
       "MEMBER_OCCUPATION_CD        0\n",
       "MEMBERSHIP_PACKAGE          0\n",
       "ADDITIONAL_MEMBERS          0\n",
       "PAYMENT_MODE                0\n",
       "START_YEAR                  0\n",
       "START_MONTH                 0\n",
       "AGE_GROUP                   0\n",
       "TERM_GROUP                  0\n",
       "TARGET                      0\n",
       "dtype: int64"
      ]
     },
     "execution_count": 30,
     "metadata": {},
     "output_type": "execute_result"
    }
   ],
   "source": [
    "new_data.isnull().sum()"
   ]
  },
  {
   "cell_type": "markdown",
   "id": "219f6a19",
   "metadata": {
    "id": "219f6a19"
   },
   "source": [
    "Filling the missing values of MEMBER_ANNUAL_INCOME"
   ]
  },
  {
   "cell_type": "code",
   "execution_count": 31,
   "id": "5de38934",
   "metadata": {
    "colab": {
     "base_uri": "https://localhost:8080/"
    },
    "id": "5de38934",
    "outputId": "ee22f974-9ad1-4e0a-cff9-3735b7895573"
   },
   "outputs": [
    {
     "name": "stdout",
     "output_type": "stream",
     "text": [
      "The mean and median of the annual income is 1451761.97 and 549996.0 respectively\n"
     ]
    }
   ],
   "source": [
    "print(f\"The mean and median of the annual income is {round(new_data['MEMBER_ANNUAL_INCOME'].mean(),2)} and {new_data['MEMBER_ANNUAL_INCOME'].median()} respectively\")"
   ]
  },
  {
   "cell_type": "markdown",
   "id": "17b5ca37",
   "metadata": {
    "id": "17b5ca37"
   },
   "source": [
    "As mean is more than median, it is right skewed ,using log transformation"
   ]
  },
  {
   "cell_type": "code",
   "execution_count": 32,
   "id": "35b2b5ba",
   "metadata": {
    "id": "35b2b5ba"
   },
   "outputs": [],
   "source": [
    "new_data['MEMBER_ANNUAL_INCOME']=np.log10(new_data['MEMBER_ANNUAL_INCOME']+1)"
   ]
  },
  {
   "cell_type": "code",
   "execution_count": 33,
   "id": "9f1180c6",
   "metadata": {
    "colab": {
     "base_uri": "https://localhost:8080/"
    },
    "id": "9f1180c6",
    "outputId": "4de80dce-e5bc-4c96-8ae0-9ecaa24b003f"
   },
   "outputs": [
    {
     "name": "stdout",
     "output_type": "stream",
     "text": [
      "The mean and median of the annual income AFTER LOG TRANSFORMATION is 5.81 and 5.740360320608791 respectively\n"
     ]
    }
   ],
   "source": [
    "print(f\"The mean and median of the annual income AFTER LOG TRANSFORMATION is {round(new_data['MEMBER_ANNUAL_INCOME'].mean(),2)} and {new_data['MEMBER_ANNUAL_INCOME'].median()} respectively\")"
   ]
  },
  {
   "cell_type": "code",
   "execution_count": 34,
   "id": "883e109d",
   "metadata": {
    "colab": {
     "base_uri": "https://localhost:8080/",
     "height": 482
    },
    "id": "883e109d",
    "outputId": "fa9e3a94-dc60-4e4b-9da9-7980653aba3d"
   },
   "outputs": [
    {
     "data": {
      "text/plain": [
       "<AxesSubplot:xlabel='MEMBER_ANNUAL_INCOME'>"
      ]
     },
     "execution_count": 34,
     "metadata": {},
     "output_type": "execute_result"
    },
    {
     "data": {
      "image/png": "[encoded data removed]",
      "text/plain": [
       "<Figure size 360x360 with 1 Axes>"
      ]
     },
     "metadata": {
      "needs_background": "light"
     },
     "output_type": "display_data"
    }
   ],
   "source": [
    "#Checking for outliers\n",
    "plt.figure(figsize=(5,5))\n",
    "sns.boxplot(x='MEMBER_ANNUAL_INCOME',data=new_data)"
   ]
  },
  {
   "cell_type": "code",
   "execution_count": 35,
   "id": "e166934e",
   "metadata": {},
   "outputs": [
    {
     "data": {
      "image/png": "[encoded data removed]",
      "text/plain": [
       "<Figure size 720x288 with 2 Axes>"
      ]
     },
     "metadata": {
      "needs_background": "light"
     },
     "output_type": "display_data"
    }
   ],
   "source": [
    "def remove_outliers(x):\n",
    "    qnt = x.quantile([0.25, 0.75])\n",
    "    caps = x.quantile([0.05, 0.95])\n",
    "    H = 1.5 * (qnt[0.75] - qnt[0.25])\n",
    "    x_clipped = x.clip(lower=caps[0.05], upper=caps[0.95])\n",
    "    x_clipped[x < (qnt[0.25] - H)] = caps[0.05]\n",
    "    x_clipped[x > (qnt[0.75] + H)] = caps[0.95]\n",
    "    return x_clipped\n",
    "\n",
    "# Capping outliers outside 1.5 times the InterQuartile Range for 'MEMBER_ANNUAL_INCOME' and 'ANNUAL_FEES' at 5th and 95th percentile values\n",
    "new_data['MEMBER_ANNUAL_INCOME'] = remove_outliers(new_data['MEMBER_ANNUAL_INCOME'])\n",
    "new_data['ANNUAL_FEES'] = remove_outliers(new_data['ANNUAL_FEES'])\n",
    "\n",
    "# Boxplots after outlier treatment\n",
    "fig, axes = plt.subplots(1, 2, figsize=(10, 4))\n",
    "\n",
    "sns.boxplot(x=new_data['MEMBER_ANNUAL_INCOME'], ax=axes[0])\n",
    "axes[0].set_title('MEMBER_ANNUAL_INCOME after Outlier Treatment')\n",
    "\n",
    "sns.boxplot(x=new_data['ANNUAL_FEES'], ax=axes[1])\n",
    "axes[1].set_title('ANNUAL_FEES after Outlier Treatment')\n",
    "\n",
    "plt.tight_layout()\n",
    "plt.show()"
   ]
  },
  {
   "cell_type": "code",
   "execution_count": 36,
   "id": "e3968804",
   "metadata": {
    "id": "e3968804"
   },
   "outputs": [],
   "source": [
    "from sklearn.impute import SimpleImputer\n",
    "imputer = SimpleImputer(missing_values=np.nan, strategy='mean')\n",
    "imputer.fit(new_data['MEMBER_ANNUAL_INCOME'].to_numpy().reshape(-1,1))\n",
    "new_data['MEMBER_ANNUAL_INCOME']=imputer.transform(new_data['MEMBER_ANNUAL_INCOME'].to_numpy().reshape(-1,1))"
   ]
  },
  {
   "cell_type": "code",
   "execution_count": 37,
   "id": "a9aaafd3",
   "metadata": {
    "colab": {
     "base_uri": "https://localhost:8080/",
     "height": 541
    },
    "id": "a9aaafd3",
    "outputId": "012da126-bfce-4f71-e85e-7fc5a6655bad"
   },
   "outputs": [
    {
     "data": {
      "text/plain": [
       "<seaborn.axisgrid.FacetGrid at 0x1e9ca7d5f70>"
      ]
     },
     "execution_count": 37,
     "metadata": {},
     "output_type": "execute_result"
    },
    {
     "data": {
      "text/plain": [
       "<Figure size 360x360 with 0 Axes>"
      ]
     },
     "metadata": {},
     "output_type": "display_data"
    },
    {
     "data": {
      "image/png": "[encoded data removed]",
      "text/plain": [
       "<Figure size 360x360 with 1 Axes>"
      ]
     },
     "metadata": {
      "needs_background": "light"
     },
     "output_type": "display_data"
    }
   ],
   "source": [
    "plt.figure(figsize=(5,5))\n",
    "sns.displot(x=new_data['MEMBER_ANNUAL_INCOME'],kde=True)"
   ]
  },
  {
   "cell_type": "code",
   "execution_count": 38,
   "id": "194c1e0f",
   "metadata": {
    "colab": {
     "base_uri": "https://localhost:8080/"
    },
    "id": "194c1e0f",
    "outputId": "5afd0408-51cd-4e1b-99be-eae93f24b196"
   },
   "outputs": [
    {
     "data": {
      "text/plain": [
       "ANNUAL_FEES                 0\n",
       "MEMBER_MARITAL_STATUS    2570\n",
       "MEMBER_GENDER               0\n",
       "MEMBER_ANNUAL_INCOME        0\n",
       "MEMBER_OCCUPATION_CD        0\n",
       "MEMBERSHIP_PACKAGE          0\n",
       "ADDITIONAL_MEMBERS          0\n",
       "PAYMENT_MODE                0\n",
       "START_YEAR                  0\n",
       "START_MONTH                 0\n",
       "AGE_GROUP                   0\n",
       "TERM_GROUP                  0\n",
       "TARGET                      0\n",
       "dtype: int64"
      ]
     },
     "execution_count": 38,
     "metadata": {},
     "output_type": "execute_result"
    }
   ],
   "source": [
    "new_data.isnull().sum()"
   ]
  },
  {
   "cell_type": "code",
   "execution_count": 39,
   "id": "34aa2897",
   "metadata": {
    "id": "34aa2897"
   },
   "outputs": [],
   "source": [
    "new_data['MEMBER_MARITAL_STATUS'].fillna(new_data['MEMBER_MARITAL_STATUS'].mode().iloc[0], inplace=True)"
   ]
  },
  {
   "cell_type": "code",
   "execution_count": 40,
   "id": "af0c0aa8",
   "metadata": {
    "colab": {
     "base_uri": "https://localhost:8080/"
    },
    "id": "af0c0aa8",
    "outputId": "f04fe947-4bad-4169-a590-54c6c8231453"
   },
   "outputs": [
    {
     "data": {
      "text/plain": [
       "ANNUAL_FEES              0\n",
       "MEMBER_MARITAL_STATUS    0\n",
       "MEMBER_GENDER            0\n",
       "MEMBER_ANNUAL_INCOME     0\n",
       "MEMBER_OCCUPATION_CD     0\n",
       "MEMBERSHIP_PACKAGE       0\n",
       "ADDITIONAL_MEMBERS       0\n",
       "PAYMENT_MODE             0\n",
       "START_YEAR               0\n",
       "START_MONTH              0\n",
       "AGE_GROUP                0\n",
       "TERM_GROUP               0\n",
       "TARGET                   0\n",
       "dtype: int64"
      ]
     },
     "execution_count": 40,
     "metadata": {},
     "output_type": "execute_result"
    }
   ],
   "source": [
    "new_data.isnull().sum()"
   ]
  },
  {
   "cell_type": "code",
   "execution_count": 41,
   "id": "4703c10e",
   "metadata": {
    "colab": {
     "base_uri": "https://localhost:8080/",
     "height": 313
    },
    "id": "4703c10e",
    "outputId": "df1173a4-5db4-42bc-8256-53ba5f74fcc4"
   },
   "outputs": [
    {
     "data": {
      "text/html": [
       "<div>\n",
       "<style scoped>\n",
       "    .dataframe tbody tr th:only-of-type {\n",
       "        vertical-align: middle;\n",
       "    }\n",
       "\n",
       "    .dataframe tbody tr th {\n",
       "        vertical-align: top;\n",
       "    }\n",
       "\n",
       "    .dataframe thead th {\n",
       "        text-align: right;\n",
       "    }\n",
       "</style>\n",
       "<table border=\"1\" class=\"dataframe\">\n",
       "  <thead>\n",
       "    <tr style=\"text-align: right;\">\n",
       "      <th></th>\n",
       "      <th>ANNUAL_FEES</th>\n",
       "      <th>MEMBER_MARITAL_STATUS</th>\n",
       "      <th>MEMBER_GENDER</th>\n",
       "      <th>MEMBER_ANNUAL_INCOME</th>\n",
       "      <th>MEMBER_OCCUPATION_CD</th>\n",
       "      <th>MEMBERSHIP_PACKAGE</th>\n",
       "      <th>ADDITIONAL_MEMBERS</th>\n",
       "      <th>PAYMENT_MODE</th>\n",
       "      <th>START_YEAR</th>\n",
       "      <th>START_MONTH</th>\n",
       "      <th>AGE_GROUP</th>\n",
       "      <th>TERM_GROUP</th>\n",
       "      <th>TARGET</th>\n",
       "    </tr>\n",
       "  </thead>\n",
       "  <tbody>\n",
       "    <tr>\n",
       "      <th>0</th>\n",
       "      <td>113125.0</td>\n",
       "      <td>M</td>\n",
       "      <td>M</td>\n",
       "      <td>6.477121</td>\n",
       "      <td>1.0</td>\n",
       "      <td>TYPE-B</td>\n",
       "      <td>2</td>\n",
       "      <td>ANNUAL</td>\n",
       "      <td>2006</td>\n",
       "      <td>9</td>\n",
       "      <td>40-60 years</td>\n",
       "      <td>20-40 years</td>\n",
       "      <td>No</td>\n",
       "    </tr>\n",
       "    <tr>\n",
       "      <th>1</th>\n",
       "      <td>112220.0</td>\n",
       "      <td>M</td>\n",
       "      <td>M</td>\n",
       "      <td>6.477121</td>\n",
       "      <td>1.0</td>\n",
       "      <td>TYPE-B</td>\n",
       "      <td>3</td>\n",
       "      <td>QUARTERLY</td>\n",
       "      <td>2006</td>\n",
       "      <td>11</td>\n",
       "      <td>20-40 years</td>\n",
       "      <td>20-40 years</td>\n",
       "      <td>No</td>\n",
       "    </tr>\n",
       "    <tr>\n",
       "      <th>2</th>\n",
       "      <td>100000.0</td>\n",
       "      <td>M</td>\n",
       "      <td>M</td>\n",
       "      <td>6.477121</td>\n",
       "      <td>1.0</td>\n",
       "      <td>TYPE-B</td>\n",
       "      <td>1</td>\n",
       "      <td>ANNUAL</td>\n",
       "      <td>2007</td>\n",
       "      <td>1</td>\n",
       "      <td>40-60 years</td>\n",
       "      <td>&lt;20 years</td>\n",
       "      <td>No</td>\n",
       "    </tr>\n",
       "    <tr>\n",
       "      <th>3</th>\n",
       "      <td>100000.0</td>\n",
       "      <td>M</td>\n",
       "      <td>M</td>\n",
       "      <td>6.477121</td>\n",
       "      <td>1.0</td>\n",
       "      <td>TYPE-B</td>\n",
       "      <td>2</td>\n",
       "      <td>ANNUAL</td>\n",
       "      <td>2007</td>\n",
       "      <td>1</td>\n",
       "      <td>20-40 years</td>\n",
       "      <td>&lt;20 years</td>\n",
       "      <td>No</td>\n",
       "    </tr>\n",
       "    <tr>\n",
       "      <th>4</th>\n",
       "      <td>100000.0</td>\n",
       "      <td>M</td>\n",
       "      <td>M</td>\n",
       "      <td>6.477121</td>\n",
       "      <td>1.0</td>\n",
       "      <td>TYPE-B</td>\n",
       "      <td>2</td>\n",
       "      <td>QUARTERLY</td>\n",
       "      <td>2007</td>\n",
       "      <td>1</td>\n",
       "      <td>20-40 years</td>\n",
       "      <td>40-60 years</td>\n",
       "      <td>No</td>\n",
       "    </tr>\n",
       "  </tbody>\n",
       "</table>\n",
       "</div>"
      ],
      "text/plain": [
       "   ANNUAL_FEES MEMBER_MARITAL_STATUS MEMBER_GENDER  MEMBER_ANNUAL_INCOME  \\\n",
       "0     113125.0                     M             M              6.477121   \n",
       "1     112220.0                     M             M              6.477121   \n",
       "2     100000.0                     M             M              6.477121   \n",
       "3     100000.0                     M             M              6.477121   \n",
       "4     100000.0                     M             M              6.477121   \n",
       "\n",
       "   MEMBER_OCCUPATION_CD MEMBERSHIP_PACKAGE  ADDITIONAL_MEMBERS PAYMENT_MODE  \\\n",
       "0                   1.0             TYPE-B                   2       ANNUAL   \n",
       "1                   1.0             TYPE-B                   3    QUARTERLY   \n",
       "2                   1.0             TYPE-B                   1       ANNUAL   \n",
       "3                   1.0             TYPE-B                   2       ANNUAL   \n",
       "4                   1.0             TYPE-B                   2    QUARTERLY   \n",
       "\n",
       "   START_YEAR START_MONTH    AGE_GROUP   TERM_GROUP TARGET  \n",
       "0        2006           9  40-60 years  20-40 years     No  \n",
       "1        2006          11  20-40 years  20-40 years     No  \n",
       "2        2007           1  40-60 years    <20 years     No  \n",
       "3        2007           1  20-40 years    <20 years     No  \n",
       "4        2007           1  20-40 years  40-60 years     No  "
      ]
     },
     "execution_count": 41,
     "metadata": {},
     "output_type": "execute_result"
    }
   ],
   "source": [
    "new_data.head()"
   ]
  },
  {
   "cell_type": "code",
   "execution_count": 42,
   "id": "19099023",
   "metadata": {
    "colab": {
     "base_uri": "https://localhost:8080/",
     "height": 542
    },
    "id": "19099023",
    "outputId": "b138a267-4633-43e3-f8e2-961f78428698"
   },
   "outputs": [
    {
     "data": {
      "text/plain": [
       "(162064.38038666765, 118207.81)"
      ]
     },
     "execution_count": 42,
     "metadata": {},
     "output_type": "execute_result"
    },
    {
     "data": {
      "text/plain": [
       "<Figure size 360x360 with 0 Axes>"
      ]
     },
     "metadata": {},
     "output_type": "display_data"
    },
    {
     "data": {
      "image/png": "[encoded data removed]",
      "text/plain": [
       "<Figure size 360x360 with 1 Axes>"
      ]
     },
     "metadata": {
      "needs_background": "light"
     },
     "output_type": "display_data"
    }
   ],
   "source": [
    "plt.figure(figsize=(5,5))\n",
    "sns.displot(x=new_data['ANNUAL_FEES'],kde=True)\n",
    "new_data['ANNUAL_FEES'].mean(),new_data['ANNUAL_FEES'].median()"
   ]
  },
  {
   "cell_type": "code",
   "execution_count": 43,
   "id": "8884918c",
   "metadata": {
    "id": "8884918c"
   },
   "outputs": [],
   "source": [
    "from sklearn.preprocessing import LabelEncoder\n",
    "marital_status=LabelEncoder()\n",
    "new_data['MEMBER_MARITAL_STATUS']=marital_status.fit_transform(new_data['MEMBER_MARITAL_STATUS'].to_numpy())"
   ]
  },
  {
   "cell_type": "code",
   "execution_count": 44,
   "id": "ef48de74",
   "metadata": {
    "id": "ef48de74"
   },
   "outputs": [],
   "source": [
    "gender=LabelEncoder()\n",
    "new_data['MEMBER_GENDER']=gender.fit_transform(new_data['MEMBER_GENDER'].to_numpy())"
   ]
  },
  {
   "cell_type": "code",
   "execution_count": 45,
   "id": "6b19c39e",
   "metadata": {
    "id": "6b19c39e"
   },
   "outputs": [],
   "source": [
    "package=LabelEncoder()\n",
    "new_data['MEMBERSHIP_PACKAGE']=package.fit_transform(new_data['MEMBERSHIP_PACKAGE'].to_numpy())"
   ]
  },
  {
   "cell_type": "code",
   "execution_count": 46,
   "id": "cd9813e2",
   "metadata": {
    "id": "cd9813e2"
   },
   "outputs": [],
   "source": [
    "payment_mode=LabelEncoder()\n",
    "new_data['PAYMENT_MODE']=payment_mode.fit_transform(new_data['PAYMENT_MODE'].to_numpy())"
   ]
  },
  {
   "cell_type": "code",
   "execution_count": 47,
   "id": "7f0e3aac",
   "metadata": {
    "id": "7f0e3aac"
   },
   "outputs": [],
   "source": [
    "target=LabelEncoder()\n",
    "new_data['TARGET']=target.fit_transform(new_data['TARGET'].to_numpy())"
   ]
  },
  {
   "cell_type": "code",
   "execution_count": 48,
   "id": "8bf81ccd",
   "metadata": {
    "id": "8bf81ccd"
   },
   "outputs": [],
   "source": [
    "age_group=LabelEncoder()\n",
    "new_data['AGE_GROUP']=age_group.fit_transform(new_data['AGE_GROUP'].to_numpy())"
   ]
  },
  {
   "cell_type": "code",
   "execution_count": 49,
   "id": "e72b78e6",
   "metadata": {
    "id": "e72b78e6"
   },
   "outputs": [],
   "source": [
    "term_group=LabelEncoder()\n",
    "new_data['TERM_GROUP']=term_group.fit_transform(new_data['TERM_GROUP'].to_numpy())"
   ]
  },
  {
   "cell_type": "code",
   "execution_count": 50,
   "id": "1585a9f1",
   "metadata": {
    "colab": {
     "base_uri": "https://localhost:8080/",
     "height": 226
    },
    "id": "1585a9f1",
    "outputId": "d6f08084-93c9-479c-8029-eef1353c4d9d"
   },
   "outputs": [
    {
     "data": {
      "text/html": [
       "<div>\n",
       "<style scoped>\n",
       "    .dataframe tbody tr th:only-of-type {\n",
       "        vertical-align: middle;\n",
       "    }\n",
       "\n",
       "    .dataframe tbody tr th {\n",
       "        vertical-align: top;\n",
       "    }\n",
       "\n",
       "    .dataframe thead th {\n",
       "        text-align: right;\n",
       "    }\n",
       "</style>\n",
       "<table border=\"1\" class=\"dataframe\">\n",
       "  <thead>\n",
       "    <tr style=\"text-align: right;\">\n",
       "      <th></th>\n",
       "      <th>ANNUAL_FEES</th>\n",
       "      <th>MEMBER_MARITAL_STATUS</th>\n",
       "      <th>MEMBER_GENDER</th>\n",
       "      <th>MEMBER_ANNUAL_INCOME</th>\n",
       "      <th>MEMBER_OCCUPATION_CD</th>\n",
       "      <th>MEMBERSHIP_PACKAGE</th>\n",
       "      <th>ADDITIONAL_MEMBERS</th>\n",
       "      <th>PAYMENT_MODE</th>\n",
       "      <th>START_YEAR</th>\n",
       "      <th>START_MONTH</th>\n",
       "      <th>AGE_GROUP</th>\n",
       "      <th>TERM_GROUP</th>\n",
       "      <th>TARGET</th>\n",
       "    </tr>\n",
       "  </thead>\n",
       "  <tbody>\n",
       "    <tr>\n",
       "      <th>0</th>\n",
       "      <td>113125.0</td>\n",
       "      <td>1</td>\n",
       "      <td>1</td>\n",
       "      <td>6.477121</td>\n",
       "      <td>1.0</td>\n",
       "      <td>1</td>\n",
       "      <td>2</td>\n",
       "      <td>0</td>\n",
       "      <td>2006</td>\n",
       "      <td>9</td>\n",
       "      <td>1</td>\n",
       "      <td>0</td>\n",
       "      <td>0</td>\n",
       "    </tr>\n",
       "    <tr>\n",
       "      <th>1</th>\n",
       "      <td>112220.0</td>\n",
       "      <td>1</td>\n",
       "      <td>1</td>\n",
       "      <td>6.477121</td>\n",
       "      <td>1.0</td>\n",
       "      <td>1</td>\n",
       "      <td>3</td>\n",
       "      <td>2</td>\n",
       "      <td>2006</td>\n",
       "      <td>11</td>\n",
       "      <td>0</td>\n",
       "      <td>0</td>\n",
       "      <td>0</td>\n",
       "    </tr>\n",
       "    <tr>\n",
       "      <th>2</th>\n",
       "      <td>100000.0</td>\n",
       "      <td>1</td>\n",
       "      <td>1</td>\n",
       "      <td>6.477121</td>\n",
       "      <td>1.0</td>\n",
       "      <td>1</td>\n",
       "      <td>1</td>\n",
       "      <td>0</td>\n",
       "      <td>2007</td>\n",
       "      <td>1</td>\n",
       "      <td>1</td>\n",
       "      <td>4</td>\n",
       "      <td>0</td>\n",
       "    </tr>\n",
       "    <tr>\n",
       "      <th>3</th>\n",
       "      <td>100000.0</td>\n",
       "      <td>1</td>\n",
       "      <td>1</td>\n",
       "      <td>6.477121</td>\n",
       "      <td>1.0</td>\n",
       "      <td>1</td>\n",
       "      <td>2</td>\n",
       "      <td>0</td>\n",
       "      <td>2007</td>\n",
       "      <td>1</td>\n",
       "      <td>0</td>\n",
       "      <td>4</td>\n",
       "      <td>0</td>\n",
       "    </tr>\n",
       "    <tr>\n",
       "      <th>4</th>\n",
       "      <td>100000.0</td>\n",
       "      <td>1</td>\n",
       "      <td>1</td>\n",
       "      <td>6.477121</td>\n",
       "      <td>1.0</td>\n",
       "      <td>1</td>\n",
       "      <td>2</td>\n",
       "      <td>2</td>\n",
       "      <td>2007</td>\n",
       "      <td>1</td>\n",
       "      <td>0</td>\n",
       "      <td>1</td>\n",
       "      <td>0</td>\n",
       "    </tr>\n",
       "  </tbody>\n",
       "</table>\n",
       "</div>"
      ],
      "text/plain": [
       "   ANNUAL_FEES  MEMBER_MARITAL_STATUS  MEMBER_GENDER  MEMBER_ANNUAL_INCOME  \\\n",
       "0     113125.0                      1              1              6.477121   \n",
       "1     112220.0                      1              1              6.477121   \n",
       "2     100000.0                      1              1              6.477121   \n",
       "3     100000.0                      1              1              6.477121   \n",
       "4     100000.0                      1              1              6.477121   \n",
       "\n",
       "   MEMBER_OCCUPATION_CD  MEMBERSHIP_PACKAGE  ADDITIONAL_MEMBERS  PAYMENT_MODE  \\\n",
       "0                   1.0                   1                   2             0   \n",
       "1                   1.0                   1                   3             2   \n",
       "2                   1.0                   1                   1             0   \n",
       "3                   1.0                   1                   2             0   \n",
       "4                   1.0                   1                   2             2   \n",
       "\n",
       "   START_YEAR START_MONTH  AGE_GROUP  TERM_GROUP  TARGET  \n",
       "0        2006           9          1           0       0  \n",
       "1        2006          11          0           0       0  \n",
       "2        2007           1          1           4       0  \n",
       "3        2007           1          0           4       0  \n",
       "4        2007           1          0           1       0  "
      ]
     },
     "execution_count": 50,
     "metadata": {},
     "output_type": "execute_result"
    }
   ],
   "source": [
    "new_data.head()"
   ]
  },
  {
   "cell_type": "markdown",
   "id": "f5fce7d5",
   "metadata": {},
   "source": [
    "# SPLITING DATASET INTO TRAINING AND TEST."
   ]
  },
  {
   "cell_type": "code",
   "execution_count": null,
   "id": "051c3c49",
   "metadata": {
    "id": "e3cf8f3c"
   },
   "outputs": [],
   "source": [
    "from sklearn.model_selection import train_test_split\n",
    "X=new_data.iloc[:,:-1].values\n",
    "y=new_data.iloc[:,-1:].values"
   ]
  },
  {
   "cell_type": "code",
   "execution_count": 52,
   "id": "f3ecab6e",
   "metadata": {
    "colab": {
     "base_uri": "https://localhost:8080/"
    },
    "id": "f3ecab6e",
    "outputId": "c16d328f-0c23-4b29-8d0c-3600f2d9eb7a",
    "scrolled": true
   },
   "outputs": [
    {
     "data": {
      "text/plain": [
       "(array([[1.1312500e+05, 1.0000000e+00, 1.0000000e+00, 6.4771214e+00,\n",
       "         1.0000000e+00, 1.0000000e+00, 2.0000000e+00, 0.0000000e+00,\n",
       "         2.0060000e+03, 9.0000000e+00, 1.0000000e+00, 0.0000000e+00],\n",
       "        [1.1222000e+05, 1.0000000e+00, 1.0000000e+00, 6.4771214e+00,\n",
       "         1.0000000e+00, 1.0000000e+00, 3.0000000e+00, 2.0000000e+00,\n",
       "         2.0060000e+03, 1.1000000e+01, 0.0000000e+00, 0.0000000e+00],\n",
       "        [1.0000000e+05, 1.0000000e+00, 1.0000000e+00, 6.4771214e+00,\n",
       "         1.0000000e+00, 1.0000000e+00, 1.0000000e+00, 0.0000000e+00,\n",
       "         2.0070000e+03, 1.0000000e+00, 1.0000000e+00, 4.0000000e+00],\n",
       "        [1.0000000e+05, 1.0000000e+00, 1.0000000e+00, 6.4771214e+00,\n",
       "         1.0000000e+00, 1.0000000e+00, 2.0000000e+00, 0.0000000e+00,\n",
       "         2.0070000e+03, 1.0000000e+00, 0.0000000e+00, 4.0000000e+00],\n",
       "        [1.0000000e+05, 1.0000000e+00, 1.0000000e+00, 6.4771214e+00,\n",
       "         1.0000000e+00, 1.0000000e+00, 2.0000000e+00, 2.0000000e+00,\n",
       "         2.0070000e+03, 1.0000000e+00, 0.0000000e+00, 1.0000000e+00]]),\n",
       " array([[0],\n",
       "        [0],\n",
       "        [0],\n",
       "        [0],\n",
       "        [0]]))"
      ]
     },
     "execution_count": 52,
     "metadata": {},
     "output_type": "execute_result"
    }
   ],
   "source": [
    "X[:5],y[:5]"
   ]
  },
  {
   "cell_type": "code",
   "execution_count": 53,
   "id": "c7904291",
   "metadata": {
    "colab": {
     "base_uri": "https://localhost:8080/"
    },
    "id": "c7904291",
    "outputId": "614f08a5-1439-4c57-bb94-b6f3a71aac4c"
   },
   "outputs": [
    {
     "data": {
      "text/plain": [
       "ANNUAL_FEES              0\n",
       "MEMBER_MARITAL_STATUS    0\n",
       "MEMBER_GENDER            0\n",
       "MEMBER_ANNUAL_INCOME     0\n",
       "MEMBER_OCCUPATION_CD     0\n",
       "MEMBERSHIP_PACKAGE       0\n",
       "ADDITIONAL_MEMBERS       0\n",
       "PAYMENT_MODE             0\n",
       "START_YEAR               0\n",
       "START_MONTH              0\n",
       "AGE_GROUP                0\n",
       "TERM_GROUP               0\n",
       "TARGET                   0\n",
       "dtype: int64"
      ]
     },
     "execution_count": 53,
     "metadata": {},
     "output_type": "execute_result"
    }
   ],
   "source": [
    "new_data.isnull().sum()\n"
   ]
  },
  {
   "cell_type": "code",
   "execution_count": 54,
   "id": "ced57f7d",
   "metadata": {},
   "outputs": [
    {
     "name": "stdout",
     "output_type": "stream",
     "text": [
      "Defaulting to user installation because normal site-packages is not writeableNote: you may need to restart the kernel to use updated packages.\n",
      "Requirement already satisfied: imblearn in c:\\users\\galij\\appdata\\roaming\\python\\python39\\site-packages (0.0)\n",
      "\n",
      "Requirement already satisfied: imbalanced-learn in c:\\users\\galij\\appdata\\roaming\\python\\python39\\site-packages (from imblearn) (0.11.0)\n",
      "Requirement already satisfied: joblib>=1.1.1 in c:\\users\\galij\\appdata\\roaming\\python\\python39\\site-packages (from imbalanced-learn->imblearn) (1.3.2)\n",
      "Requirement already satisfied: scipy>=1.5.0 in c:\\programdata\\anaconda3\\lib\\site-packages (from imbalanced-learn->imblearn) (1.7.3)\n",
      "Requirement already satisfied: threadpoolctl>=2.0.0 in c:\\programdata\\anaconda3\\lib\\site-packages (from imbalanced-learn->imblearn) (2.2.0)\n",
      "Requirement already satisfied: numpy>=1.17.3 in c:\\programdata\\anaconda3\\lib\\site-packages (from imbalanced-learn->imblearn) (1.21.5)\n",
      "Requirement already satisfied: scikit-learn>=1.0.2 in c:\\programdata\\anaconda3\\lib\\site-packages (from imbalanced-learn->imblearn) (1.0.2)\n"
     ]
    }
   ],
   "source": [
    "pip install imblearn"
   ]
  },
  {
   "cell_type": "markdown",
   "id": "d3c8db16",
   "metadata": {},
   "source": [
    "# FITTING AND SCORING A MODEL AND FINDING CONFUSION MATRIX TABLE\n"
   ]
  },
  {
   "cell_type": "code",
   "execution_count": 55,
   "id": "1ffe910d",
   "metadata": {
    "colab": {
     "base_uri": "https://localhost:8080/"
    },
    "id": "1ffe910d",
    "outputId": "b79de55a-c453-49c4-bba7-dc7f05bafd5a"
   },
   "outputs": [
    {
     "data": {
      "text/plain": [
       "Counter({0: 3135, 1: 3135})"
      ]
     },
     "execution_count": 55,
     "metadata": {},
     "output_type": "execute_result"
    }
   ],
   "source": [
    "from imblearn.under_sampling import RandomUnderSampler\n",
    "from collections import Counter\n",
    "under_sampler=RandomUnderSampler(sampling_strategy='majority')\n",
    "X_under,y_under=under_sampler.fit_resample(X,y)\n",
    "Counter(y_under)\n"
   ]
  },
  {
   "cell_type": "code",
   "execution_count": 56,
   "id": "427a665c",
   "metadata": {
    "id": "427a665c"
   },
   "outputs": [],
   "source": [
    "from sklearn.model_selection import train_test_split\n",
    "Xtrain,Xtest,ytrain,ytest=train_test_split(X_under,y_under,train_size=0.8,stratify=y_under)"
   ]
  },
  {
   "cell_type": "code",
   "execution_count": 57,
   "id": "cMeMAv0mKcjX",
   "metadata": {
    "colab": {
     "base_uri": "https://localhost:8080/",
     "height": 74
    },
    "id": "cMeMAv0mKcjX",
    "outputId": "5e091360-b2b3-4d22-8982-7aed924b1b2d"
   },
   "outputs": [
    {
     "data": {
      "text/plain": [
       "RandomForestClassifier(n_estimators=500)"
      ]
     },
     "execution_count": 57,
     "metadata": {},
     "output_type": "execute_result"
    }
   ],
   "source": [
    "from sklearn.ensemble import RandomForestClassifier\n",
    "rf=RandomForestClassifier(n_estimators=500)\n",
    "rf.fit(Xtrain,ytrain)"
   ]
  },
  {
   "cell_type": "code",
   "execution_count": 58,
   "id": "LOXoxnMgKpV6",
   "metadata": {
    "colab": {
     "base_uri": "https://localhost:8080/"
    },
    "id": "LOXoxnMgKpV6",
    "outputId": "72e80611-ad80-4a6d-e13d-c1748a4bce4b"
   },
   "outputs": [
    {
     "name": "stdout",
     "output_type": "stream",
     "text": [
      "[[404 159]\n",
      " [223 468]]\n",
      "              precision    recall  f1-score   support\n",
      "\n",
      "           0       0.64      0.72      0.68       563\n",
      "           1       0.75      0.68      0.71       691\n",
      "\n",
      "    accuracy                           0.70      1254\n",
      "   macro avg       0.70      0.70      0.69      1254\n",
      "weighted avg       0.70      0.70      0.70      1254\n",
      "\n",
      "0.6953748006379585\n"
     ]
    }
   ],
   "source": [
    "from sklearn.metrics import confusion_matrix,classification_report,accuracy_score\n",
    "prediction=rf.predict(Xtest)\n",
    "cm=confusion_matrix(prediction,ytest)\n",
    "cr=classification_report(prediction,ytest)\n",
    "accuracy=accuracy_score(prediction,ytest)\n",
    "print(cm)\n",
    "print(cr)\n",
    "print(accuracy)"
   ]
  },
  {
   "cell_type": "code",
   "execution_count": 59,
   "id": "qqrVod-iKvwH",
   "metadata": {
    "colab": {
     "base_uri": "https://localhost:8080/",
     "height": 74
    },
    "id": "qqrVod-iKvwH",
    "outputId": "740db6d6-7121-4b44-f1ea-93bdd9462f5a"
   },
   "outputs": [
    {
     "data": {
      "text/plain": [
       "DecisionTreeClassifier()"
      ]
     },
     "execution_count": 59,
     "metadata": {},
     "output_type": "execute_result"
    }
   ],
   "source": [
    "from sklearn.tree import DecisionTreeClassifier\n",
    "tree=DecisionTreeClassifier()\n",
    "tree.fit(Xtrain,ytrain)"
   ]
  },
  {
   "cell_type": "code",
   "execution_count": 60,
   "id": "8ii_aMuUK1n9",
   "metadata": {
    "colab": {
     "base_uri": "https://localhost:8080/"
    },
    "id": "8ii_aMuUK1n9",
    "outputId": "761462fc-9acf-471f-d228-25b43db41add"
   },
   "outputs": [
    {
     "name": "stdout",
     "output_type": "stream",
     "text": [
      "[[400 221]\n",
      " [227 406]]\n",
      "              precision    recall  f1-score   support\n",
      "\n",
      "           0       0.64      0.64      0.64       621\n",
      "           1       0.65      0.64      0.64       633\n",
      "\n",
      "    accuracy                           0.64      1254\n",
      "   macro avg       0.64      0.64      0.64      1254\n",
      "weighted avg       0.64      0.64      0.64      1254\n",
      "\n",
      "0.6427432216905901\n"
     ]
    }
   ],
   "source": [
    "prediction=tree.predict(Xtest)\n",
    "cm=confusion_matrix(prediction,ytest)\n",
    "cr=classification_report(prediction,ytest)\n",
    "accuracy=accuracy_score(prediction,ytest)\n",
    "print(cm)\n",
    "print(cr)\n",
    "print(accuracy)"
   ]
  },
  {
   "cell_type": "code",
   "execution_count": 61,
   "id": "fA4-mJatK46G",
   "metadata": {
    "colab": {
     "base_uri": "https://localhost:8080/",
     "height": 74
    },
    "id": "fA4-mJatK46G",
    "outputId": "07a59836-7da1-49be-c80c-6e9775c9bd4b"
   },
   "outputs": [
    {
     "data": {
      "text/plain": [
       "KNeighborsClassifier(n_neighbors=4)"
      ]
     },
     "execution_count": 61,
     "metadata": {},
     "output_type": "execute_result"
    }
   ],
   "source": [
    "from sklearn.neighbors import KNeighborsClassifier\n",
    "neigh = KNeighborsClassifier(n_neighbors=4)\n",
    "neigh.fit(Xtrain, ytrain)"
   ]
  },
  {
   "cell_type": "code",
   "execution_count": 62,
   "id": "0zuK0bNHK75i",
   "metadata": {
    "colab": {
     "base_uri": "https://localhost:8080/"
    },
    "id": "0zuK0bNHK75i",
    "outputId": "587556d6-1728-4277-a6ed-1481f4970539"
   },
   "outputs": [
    {
     "name": "stdout",
     "output_type": "stream",
     "text": [
      "[[458 333]\n",
      " [169 294]]\n",
      "              precision    recall  f1-score   support\n",
      "\n",
      "           0       0.73      0.58      0.65       791\n",
      "           1       0.47      0.63      0.54       463\n",
      "\n",
      "    accuracy                           0.60      1254\n",
      "   macro avg       0.60      0.61      0.59      1254\n",
      "weighted avg       0.63      0.60      0.61      1254\n",
      "\n",
      "0.5996810207336523\n"
     ]
    }
   ],
   "source": [
    "prediction=neigh.predict(Xtest)\n",
    "cm=confusion_matrix(prediction,ytest)\n",
    "cr=classification_report(prediction,ytest)\n",
    "accuracy=accuracy_score(prediction,ytest)\n",
    "print(cm)\n",
    "print(cr)\n",
    "print(accuracy)"
   ]
  },
  {
   "cell_type": "code",
   "execution_count": null,
   "id": "d1ef4add",
   "metadata": {},
   "outputs": [],
   "source": []
  },
  {
   "cell_type": "code",
   "execution_count": null,
   "id": "02b957ed",
   "metadata": {},
   "outputs": [],
   "source": []
  }
 ],
 "metadata": {
  "colab": {
   "provenance": []
  },
  "kernelspec": {
   "display_name": "Python 3 (ipykernel)",
   "language": "python",
   "name": "python3"
  },
  "language_info": {
   "codemirror_mode": {
    "name": "ipython",
    "version": 3
   },
   "file_extension": ".py",
   "mimetype": "text/x-python",
   "name": "python",
   "nbconvert_exporter": "python",
   "pygments_lexer": "ipython3",
   "version": "3.11.5"
  }
 },
 "nbformat": 4,
 "nbformat_minor": 5
}
